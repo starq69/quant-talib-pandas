{
 "cells": [
  {
   "cell_type": "markdown",
   "metadata": {},
   "source": [
    "## talib momentum indicators"
   ]
  },
  {
   "cell_type": "code",
   "execution_count": 28,
   "metadata": {
    "collapsed": false
   },
   "outputs": [
    {
     "data": {
      "text/plain": [
       "('0.4.9', b'0.4.0 (May 22 2017 21:53:10)')"
      ]
     },
     "execution_count": 28,
     "metadata": {},
     "output_type": "execute_result"
    }
   ],
   "source": [
    "talib.__version__, talib.__ta_version__"
   ]
  },
  {
   "cell_type": "raw",
   "metadata": {},
   "source": [
    "ADX                  Average Directional Movement Index\n",
    "ADXR                 Average Directional Movement Index Rating\n",
    "APO                  Absolute Price Oscillator\n",
    "AROON                Aroon\n",
    "AROONOSC             Aroon Oscillator\n",
    "BOP                  Balance Of Power\n",
    "CCI                  Commodity Channel Index\n",
    "CMO                  Chande Momentum Oscillator\n",
    "DX                   Directional Movement Index\n",
    "MACD                 Moving Average Convergence/Divergence\n",
    "MACDEXT              MACD with controllable MA type\n",
    "MACDFIX              Moving Average Convergence/Divergence Fix 12/26\n",
    "MFI                  Money Flow Index\n",
    "MINUS_DI             Minus Directional Indicator\n",
    "MINUS_DM             Minus Directional Movement\n",
    "MOM                  Momentum\n",
    "PLUS_DI              Plus Directional Indicator\n",
    "PLUS_DM              Plus Directional Movement\n",
    "PPO                  Percentage Price Oscillator\n",
    "ROC                  Rate of change : ((price/prevPrice)-1)*100\n",
    "ROCP                 Rate of change Percentage: (price-prevPrice)/prevPrice\n",
    "ROCR                 Rate of change ratio: (price/prevPrice)\n",
    "ROCR100              Rate of change ratio 100 scale: (price/prevPrice)*100\n",
    "RSI                  Relative Strength Index\n",
    "STOCH                Stochastic\n",
    "STOCHF               Stochastic Fast\n",
    "STOCHRSI             Stochastic Relative Strength Index\n",
    "TRIX                 1-day Rate-Of-Change (ROC) of a Triple Smooth EMA\n",
    "ULTOSC               Ultimate Oscillator\n",
    "WILLR                Williams' %R"
   ]
  },
  {
   "cell_type": "code",
   "execution_count": null,
   "metadata": {
    "collapsed": true
   },
   "outputs": [],
   "source": [
    "import numpy as np\n",
    "import pandas as pd\n",
    "import talib\n",
    "import pprint"
   ]
  },
  {
   "cell_type": "code",
   "execution_count": 2,
   "metadata": {
    "collapsed": true
   },
   "outputs": [],
   "source": [
    "pdf = pd.read_csv('/home/starq/REP/DATA/FINANCE/Quotazioni/ASA.csv' \\\n",
    "                                 ,usecols=['Date','Open', 'High', 'Low', 'Close', 'Volume'] \\\n",
    "                                 ,parse_dates=['Date'],infer_datetime_format=True \\\n",
    "                                 ,index_col='Date')"
   ]
  },
  {
   "cell_type": "code",
   "execution_count": 6,
   "metadata": {
    "collapsed": true
   },
   "outputs": [
    {
     "name": "stdout",
     "output_type": "stream",
     "text": [
      "{'Cycle Indicators': ['HT_DCPERIOD',\n",
      "                      'HT_DCPHASE',\n",
      "                      'HT_PHASOR',\n",
      "                      'HT_SINE',\n",
      "                      'HT_TRENDMODE'],\n",
      " 'Math Operators': ['ADD',\n",
      "                    'DIV',\n",
      "                    'MAX',\n",
      "                    'MAXINDEX',\n",
      "                    'MIN',\n",
      "                    'MININDEX',\n",
      "                    'MINMAX',\n",
      "                    'MINMAXINDEX',\n",
      "                    'MULT',\n",
      "                    'SUB',\n",
      "                    'SUM'],\n",
      " 'Math Transform': ['ACOS',\n",
      "                    'ASIN',\n",
      "                    'ATAN',\n",
      "                    'CEIL',\n",
      "                    'COS',\n",
      "                    'COSH',\n",
      "                    'EXP',\n",
      "                    'FLOOR',\n",
      "                    'LN',\n",
      "                    'LOG10',\n",
      "                    'SIN',\n",
      "                    'SINH',\n",
      "                    'SQRT',\n",
      "                    'TAN',\n",
      "                    'TANH'],\n",
      " 'Momentum Indicators': ['ADX',\n",
      "                         'ADXR',\n",
      "                         'APO',\n",
      "                         'AROON',\n",
      "                         'AROONOSC',\n",
      "                         'BOP',\n",
      "                         'CCI',\n",
      "                         'CMO',\n",
      "                         'DX',\n",
      "                         'MACD',\n",
      "                         'MACDEXT',\n",
      "                         'MACDFIX',\n",
      "                         'MFI',\n",
      "                         'MINUS_DI',\n",
      "                         'MINUS_DM',\n",
      "                         'MOM',\n",
      "                         'PLUS_DI',\n",
      "                         'PLUS_DM',\n",
      "                         'PPO',\n",
      "                         'ROC',\n",
      "                         'ROCP',\n",
      "                         'ROCR',\n",
      "                         'ROCR100',\n",
      "                         'RSI',\n",
      "                         'STOCH',\n",
      "                         'STOCHF',\n",
      "                         'STOCHRSI',\n",
      "                         'TRIX',\n",
      "                         'ULTOSC',\n",
      "                         'WILLR'],\n",
      " 'Overlap Studies': ['BBANDS',\n",
      "                     'DEMA',\n",
      "                     'EMA',\n",
      "                     'HT_TRENDLINE',\n",
      "                     'KAMA',\n",
      "                     'MA',\n",
      "                     'MAMA',\n",
      "                     'MAVP',\n",
      "                     'MIDPOINT',\n",
      "                     'MIDPRICE',\n",
      "                     'SAR',\n",
      "                     'SAREXT',\n",
      "                     'SMA',\n",
      "                     'T3',\n",
      "                     'TEMA',\n",
      "                     'TRIMA',\n",
      "                     'WMA'],\n",
      " 'Pattern Recognition': ['CDL2CROWS',\n",
      "                         'CDL3BLACKCROWS',\n",
      "                         'CDL3INSIDE',\n",
      "                         'CDL3LINESTRIKE',\n",
      "                         'CDL3OUTSIDE',\n",
      "                         'CDL3STARSINSOUTH',\n",
      "                         'CDL3WHITESOLDIERS',\n",
      "                         'CDLABANDONEDBABY',\n",
      "                         'CDLADVANCEBLOCK',\n",
      "                         'CDLBELTHOLD',\n",
      "                         'CDLBREAKAWAY',\n",
      "                         'CDLCLOSINGMARUBOZU',\n",
      "                         'CDLCONCEALBABYSWALL',\n",
      "                         'CDLCOUNTERATTACK',\n",
      "                         'CDLDARKCLOUDCOVER',\n",
      "                         'CDLDOJI',\n",
      "                         'CDLDOJISTAR',\n",
      "                         'CDLDRAGONFLYDOJI',\n",
      "                         'CDLENGULFING',\n",
      "                         'CDLEVENINGDOJISTAR',\n",
      "                         'CDLEVENINGSTAR',\n",
      "                         'CDLGAPSIDESIDEWHITE',\n",
      "                         'CDLGRAVESTONEDOJI',\n",
      "                         'CDLHAMMER',\n",
      "                         'CDLHANGINGMAN',\n",
      "                         'CDLHARAMI',\n",
      "                         'CDLHARAMICROSS',\n",
      "                         'CDLHIGHWAVE',\n",
      "                         'CDLHIKKAKE',\n",
      "                         'CDLHIKKAKEMOD',\n",
      "                         'CDLHOMINGPIGEON',\n",
      "                         'CDLIDENTICAL3CROWS',\n",
      "                         'CDLINNECK',\n",
      "                         'CDLINVERTEDHAMMER',\n",
      "                         'CDLKICKING',\n",
      "                         'CDLKICKINGBYLENGTH',\n",
      "                         'CDLLADDERBOTTOM',\n",
      "                         'CDLLONGLEGGEDDOJI',\n",
      "                         'CDLLONGLINE',\n",
      "                         'CDLMARUBOZU',\n",
      "                         'CDLMATCHINGLOW',\n",
      "                         'CDLMATHOLD',\n",
      "                         'CDLMORNINGDOJISTAR',\n",
      "                         'CDLMORNINGSTAR',\n",
      "                         'CDLONNECK',\n",
      "                         'CDLPIERCING',\n",
      "                         'CDLRICKSHAWMAN',\n",
      "                         'CDLRISEFALL3METHODS',\n",
      "                         'CDLSEPARATINGLINES',\n",
      "                         'CDLSHOOTINGSTAR',\n",
      "                         'CDLSHORTLINE',\n",
      "                         'CDLSPINNINGTOP',\n",
      "                         'CDLSTALLEDPATTERN',\n",
      "                         'CDLSTICKSANDWICH',\n",
      "                         'CDLTAKURI',\n",
      "                         'CDLTASUKIGAP',\n",
      "                         'CDLTHRUSTING',\n",
      "                         'CDLTRISTAR',\n",
      "                         'CDLUNIQUE3RIVER',\n",
      "                         'CDLUPSIDEGAP2CROWS',\n",
      "                         'CDLXSIDEGAP3METHODS'],\n",
      " 'Price Transform': ['AVGPRICE', 'MEDPRICE', 'TYPPRICE', 'WCLPRICE'],\n",
      " 'Statistic Functions': ['BETA',\n",
      "                         'CORREL',\n",
      "                         'LINEARREG',\n",
      "                         'LINEARREG_ANGLE',\n",
      "                         'LINEARREG_INTERCEPT',\n",
      "                         'LINEARREG_SLOPE',\n",
      "                         'STDDEV',\n",
      "                         'TSF',\n",
      "                         'VAR'],\n",
      " 'Volatility Indicators': ['ATR', 'NATR', 'TRANGE'],\n",
      " 'Volume Indicators': ['AD', 'ADOSC', 'OBV']}\n"
     ]
    }
   ],
   "source": [
    "pprint.pprint(talib.get_function_groups())"
   ]
  },
  {
   "cell_type": "markdown",
   "metadata": {},
   "source": [
    "### ADX"
   ]
  },
  {
   "cell_type": "code",
   "execution_count": 9,
   "metadata": {
    "collapsed": false
   },
   "outputs": [
    {
     "name": "stdout",
     "output_type": "stream",
     "text": [
      "Help on built-in function ADX in module talib.func:\n",
      "\n",
      "ADX(...)\n",
      "    ADX(high, low, close[, timeperiod=?])\n",
      "    \n",
      "    Average Directional Movement Index (Momentum Indicators)\n",
      "    \n",
      "    Inputs:\n",
      "        prices: ['high', 'low', 'close']\n",
      "    Parameters:\n",
      "        timeperiod: 14\n",
      "    Outputs:\n",
      "        real\n",
      "\n"
     ]
    }
   ],
   "source": [
    "help(talib.ADX)"
   ]
  },
  {
   "cell_type": "code",
   "execution_count": 14,
   "metadata": {
    "collapsed": true
   },
   "outputs": [],
   "source": [
    "pdf['ADX'] = talib.ADX(pdf['High'].values, pdf['Low'].values, pdf['Close'].values, timeperiod=14) #default=14"
   ]
  },
  {
   "cell_type": "code",
   "execution_count": 11,
   "metadata": {
    "collapsed": false
   },
   "outputs": [
    {
     "name": "stdout",
     "output_type": "stream",
     "text": [
      "The slowest run took 5.04 times longer than the fastest. This could mean that an intermediate result is being cached.\n",
      "1000 loops, best of 3: 355 µs per loop\n"
     ]
    }
   ],
   "source": [
    "%timeit pdf['ADX'] = talib.ADX( \\\n",
    "                    pdf['High'].values, pdf['Low'].values, pdf['Close'].values, timeperiod=14) #default=14"
   ]
  },
  {
   "cell_type": "markdown",
   "metadata": {},
   "source": [
    "### ADXR"
   ]
  },
  {
   "cell_type": "code",
   "execution_count": 12,
   "metadata": {
    "collapsed": false
   },
   "outputs": [
    {
     "name": "stdout",
     "output_type": "stream",
     "text": [
      "Help on built-in function ADXR in module talib.func:\n",
      "\n",
      "ADXR(...)\n",
      "    ADXR(high, low, close[, timeperiod=?])\n",
      "    \n",
      "    Average Directional Movement Index Rating (Momentum Indicators)\n",
      "    \n",
      "    Inputs:\n",
      "        prices: ['high', 'low', 'close']\n",
      "    Parameters:\n",
      "        timeperiod: 14\n",
      "    Outputs:\n",
      "        real\n",
      "\n"
     ]
    }
   ],
   "source": [
    "help(talib.ADXR)"
   ]
  },
  {
   "cell_type": "code",
   "execution_count": 15,
   "metadata": {
    "collapsed": true
   },
   "outputs": [],
   "source": [
    "pdf['ADXR'] = talib.ADXR(pdf['High'].values, pdf['Low'].values, pdf['Close'].values, timeperiod=14) #default=14"
   ]
  },
  {
   "cell_type": "code",
   "execution_count": 16,
   "metadata": {
    "collapsed": false
   },
   "outputs": [
    {
     "name": "stdout",
     "output_type": "stream",
     "text": [
      "1000 loops, best of 3: 368 µs per loop\n"
     ]
    }
   ],
   "source": [
    "%timeit pdf['ADXR'] = talib.ADXR( \\\n",
    "                    pdf['High'].values, pdf['Low'].values, pdf['Close'].values, timeperiod=14) #default=14"
   ]
  },
  {
   "cell_type": "markdown",
   "metadata": {},
   "source": [
    "### APO"
   ]
  },
  {
   "cell_type": "code",
   "execution_count": 17,
   "metadata": {
    "collapsed": false
   },
   "outputs": [
    {
     "name": "stdout",
     "output_type": "stream",
     "text": [
      "Help on built-in function APO in module talib.func:\n",
      "\n",
      "APO(...)\n",
      "    APO(real[, fastperiod=?, slowperiod=?, matype=?])\n",
      "    \n",
      "    Absolute Price Oscillator (Momentum Indicators)\n",
      "    \n",
      "    Inputs:\n",
      "        real: (any ndarray)\n",
      "    Parameters:\n",
      "        fastperiod: 12\n",
      "        slowperiod: 26\n",
      "        matype: 0 (Simple Moving Average)\n",
      "    Outputs:\n",
      "        real\n",
      "\n"
     ]
    }
   ],
   "source": [
    "help(talib.APO)"
   ]
  },
  {
   "cell_type": "raw",
   "metadata": {},
   "source": [
    "pdf['APO'] = talib.APO(pdf['Close'].values, fastperiod=12, slowperiod=26)"
   ]
  },
  {
   "cell_type": "code",
   "execution_count": 18,
   "metadata": {
    "collapsed": false
   },
   "outputs": [
    {
     "name": "stdout",
     "output_type": "stream",
     "text": [
      "The slowest run took 14.23 times longer than the fastest. This could mean that an intermediate result is being cached.\n",
      "1000 loops, best of 3: 178 µs per loop\n"
     ]
    }
   ],
   "source": [
    "%timeit pdf['APO'] = talib.APO(pdf['Close'].values, fastperiod=12, slowperiod=26)"
   ]
  },
  {
   "cell_type": "code",
   "execution_count": 20,
   "metadata": {
    "collapsed": false
   },
   "outputs": [
    {
     "name": "stdout",
     "output_type": "stream",
     "text": [
      "Help on built-in function ROC in module talib.func:\n",
      "\n",
      "ROC(...)\n",
      "    ROC(real[, timeperiod=?])\n",
      "    \n",
      "    Rate of change : ((real/prevPrice)-1)*100 (Momentum Indicators)\n",
      "    \n",
      "    Inputs:\n",
      "        real: (any ndarray)\n",
      "    Parameters:\n",
      "        timeperiod: 10\n",
      "    Outputs:\n",
      "        real\n",
      "\n"
     ]
    }
   ],
   "source": [
    "help(talib.ROC)"
   ]
  },
  {
   "cell_type": "code",
   "execution_count": 21,
   "metadata": {
    "collapsed": true
   },
   "outputs": [],
   "source": [
    "pdf['ROC'] = talib.ROC(pdf['Close'].values)"
   ]
  },
  {
   "cell_type": "code",
   "execution_count": 22,
   "metadata": {
    "collapsed": false
   },
   "outputs": [
    {
     "data": {
      "text/html": [
       "<div>\n",
       "<table border=\"1\" class=\"dataframe\">\n",
       "  <thead>\n",
       "    <tr style=\"text-align: right;\">\n",
       "      <th></th>\n",
       "      <th>Open</th>\n",
       "      <th>High</th>\n",
       "      <th>Low</th>\n",
       "      <th>Close</th>\n",
       "      <th>Volume</th>\n",
       "      <th>ADX</th>\n",
       "      <th>ADXR</th>\n",
       "      <th>APO</th>\n",
       "      <th>ROC</th>\n",
       "    </tr>\n",
       "    <tr>\n",
       "      <th>Date</th>\n",
       "      <th></th>\n",
       "      <th></th>\n",
       "      <th></th>\n",
       "      <th></th>\n",
       "      <th></th>\n",
       "      <th></th>\n",
       "      <th></th>\n",
       "      <th></th>\n",
       "      <th></th>\n",
       "    </tr>\n",
       "  </thead>\n",
       "  <tbody>\n",
       "    <tr>\n",
       "      <th>2016-08-08</th>\n",
       "      <td>16.270000</td>\n",
       "      <td>16.590000</td>\n",
       "      <td>16.26</td>\n",
       "      <td>16.530001</td>\n",
       "      <td>115600</td>\n",
       "      <td>28.261254</td>\n",
       "      <td>32.838989</td>\n",
       "      <td>0.146859</td>\n",
       "      <td>12.602187</td>\n",
       "    </tr>\n",
       "    <tr>\n",
       "      <th>2016-08-09</th>\n",
       "      <td>16.600000</td>\n",
       "      <td>16.860001</td>\n",
       "      <td>16.58</td>\n",
       "      <td>16.760000</td>\n",
       "      <td>92100</td>\n",
       "      <td>28.695603</td>\n",
       "      <td>31.773009</td>\n",
       "      <td>0.235385</td>\n",
       "      <td>11.882510</td>\n",
       "    </tr>\n",
       "    <tr>\n",
       "      <th>2016-08-10</th>\n",
       "      <td>16.930000</td>\n",
       "      <td>17.230000</td>\n",
       "      <td>16.90</td>\n",
       "      <td>17.080000</td>\n",
       "      <td>85400</td>\n",
       "      <td>29.614253</td>\n",
       "      <td>31.114843</td>\n",
       "      <td>0.386154</td>\n",
       "      <td>7.556675</td>\n",
       "    </tr>\n",
       "    <tr>\n",
       "      <th>2016-08-11</th>\n",
       "      <td>17.180000</td>\n",
       "      <td>17.320000</td>\n",
       "      <td>17.01</td>\n",
       "      <td>17.040001</td>\n",
       "      <td>88000</td>\n",
       "      <td>30.584082</td>\n",
       "      <td>30.676459</td>\n",
       "      <td>0.525513</td>\n",
       "      <td>8.742827</td>\n",
       "    </tr>\n",
       "    <tr>\n",
       "      <th>2016-08-12</th>\n",
       "      <td>17.370001</td>\n",
       "      <td>17.480000</td>\n",
       "      <td>16.73</td>\n",
       "      <td>16.820000</td>\n",
       "      <td>213800</td>\n",
       "      <td>30.608036</td>\n",
       "      <td>29.831088</td>\n",
       "      <td>0.559616</td>\n",
       "      <td>4.928253</td>\n",
       "    </tr>\n",
       "  </tbody>\n",
       "</table>\n",
       "</div>"
      ],
      "text/plain": [
       "                 Open       High    Low      Close  Volume        ADX  \\\n",
       "Date                                                                    \n",
       "2016-08-08  16.270000  16.590000  16.26  16.530001  115600  28.261254   \n",
       "2016-08-09  16.600000  16.860001  16.58  16.760000   92100  28.695603   \n",
       "2016-08-10  16.930000  17.230000  16.90  17.080000   85400  29.614253   \n",
       "2016-08-11  17.180000  17.320000  17.01  17.040001   88000  30.584082   \n",
       "2016-08-12  17.370001  17.480000  16.73  16.820000  213800  30.608036   \n",
       "\n",
       "                 ADXR       APO        ROC  \n",
       "Date                                        \n",
       "2016-08-08  32.838989  0.146859  12.602187  \n",
       "2016-08-09  31.773009  0.235385  11.882510  \n",
       "2016-08-10  31.114843  0.386154   7.556675  \n",
       "2016-08-11  30.676459  0.525513   8.742827  \n",
       "2016-08-12  29.831088  0.559616   4.928253  "
      ]
     },
     "execution_count": 22,
     "metadata": {},
     "output_type": "execute_result"
    }
   ],
   "source": [
    "pdf.tail()"
   ]
  }
 ],
 "metadata": {
  "anaconda-cloud": {},
  "kernelspec": {
   "display_name": "Python [default]",
   "language": "python",
   "name": "python3"
  },
  "language_info": {
   "codemirror_mode": {
    "name": "ipython",
    "version": 3
   },
   "file_extension": ".py",
   "mimetype": "text/x-python",
   "name": "python",
   "nbconvert_exporter": "python",
   "pygments_lexer": "ipython3",
   "version": "3.5.5"
  }
 },
 "nbformat": 4,
 "nbformat_minor": 1
}
