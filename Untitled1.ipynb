{
 "cells": [
  {
   "cell_type": "code",
   "execution_count": 69,
   "metadata": {
    "collapsed": true
   },
   "outputs": [],
   "source": [
    "import timeit\n",
    "import numpy as np\n",
    "\n",
    "# distribuzione uniforme di 300000 elementi nell'intervallo 0, 10000\n",
    "#\n",
    "array       = 2* np.round(np.random.uniform(0,10000,300000)).astype(int)\n",
    "from_values = np.unique(array) # pair values from 0 to 2000\n",
    "to_values   = np.arange(from_values.size) # all values from 0 to 1000\n",
    "d = dict(zip(from_values, to_values))"
   ]
  },
  {
   "cell_type": "code",
   "execution_count": 21,
   "metadata": {
    "collapsed": false
   },
   "outputs": [
    {
     "data": {
      "text/plain": [
       "array([    0,     2,     4, ..., 19996, 19998, 20000])"
      ]
     },
     "execution_count": 21,
     "metadata": {},
     "output_type": "execute_result"
    }
   ],
   "source": [
    "from_values"
   ]
  },
  {
   "cell_type": "code",
   "execution_count": 22,
   "metadata": {
    "collapsed": false
   },
   "outputs": [
    {
     "name": "stdout",
     "output_type": "stream",
     "text": [
      "Check method_searchsort : True\n",
      "Time method_searchsort : 0.05755117800003973\n"
     ]
    }
   ],
   "source": [
    "'''def method_for_loop():\n",
    "    out = array.copy()\n",
    "    for from_value, to_value in zip(from_values, to_values) :\n",
    "        out[out == from_value] = to_value\n",
    "    print('Check method_for_loop :', np.all(out == array/2)) # Just checking\n",
    "print('Time method_for_loop :', timeit.timeit(method_for_loop, number = 1))\n",
    "\n",
    "def method_list_comprehension():\n",
    "    out = [d[i] for i in array]\n",
    "    print('Check method_list_comprehension :', np.all(out == array/2)) # Just checking\n",
    "print('Time method_list_comprehension :', timeit.timeit(method_list_comprehension, number = 1))\n",
    "\n",
    "def method_bruteforce():\n",
    "    idx = np.nonzero(from_values == array[:,None])[1]\n",
    "    out = to_values[idx]\n",
    "    print('Check method_bruteforce :', np.all(out == array/2)) # Just checking\n",
    "print('Time method_bruteforce :', timeit.timeit(method_bruteforce, number = 1))\n",
    "'''\n",
    "def method_searchsort():\n",
    "    sort_idx = np.argsort(from_values)\n",
    "    idx = np.searchsorted(from_values,array,sorter = sort_idx)\n",
    "    out = to_values[sort_idx][idx]\n",
    "    print('Check method_searchsort :', np.all(out == array/2)) # Just checking\n",
    "print('Time method_searchsort :', timeit.timeit(method_searchsort, number = 1))"
   ]
  },
  {
   "cell_type": "code",
   "execution_count": 62,
   "metadata": {
    "collapsed": false
   },
   "outputs": [],
   "source": [
    "array       = np.round(np.random.uniform(2,5,24))#.astype(int)\n",
    "from_values = np.unique(array) # pair values from 0 to 2000\n",
    "to_values   = np.arange(from_values.size) # all values from 0 to 1000\n",
    "d = dict(zip(from_values, to_values))"
   ]
  },
  {
   "cell_type": "code",
   "execution_count": 65,
   "metadata": {
    "collapsed": false
   },
   "outputs": [
    {
     "data": {
      "text/plain": [
       "{2.0: 0, 3.0: 1, 4.0: 2, 5.0: 3}"
      ]
     },
     "execution_count": 65,
     "metadata": {},
     "output_type": "execute_result"
    }
   ],
   "source": [
    "d"
   ]
  },
  {
   "cell_type": "markdown",
   "metadata": {},
   "source": [
    "### Display the histogram of the samples, along with the probability density function:\n",
    "https://docs.scipy.org/doc/numpy-1.15.1/reference/generated/numpy.random.uniform.html"
   ]
  },
  {
   "cell_type": "code",
   "execution_count": 53,
   "metadata": {
    "collapsed": false
   },
   "outputs": [
    {
     "data": {
      "image/png": "[encoded data removed]",
      "text/plain": [
       "<Figure size 432x288 with 1 Axes>"
      ]
     },
     "metadata": {},
     "output_type": "display_data"
    }
   ],
   "source": [
    "import matplotlib.pyplot as plt\n",
    "count, bins, ignored = plt.hist(array, 15, density=True)\n",
    "plt.plot(bins, np.ones_like(bins), linewidth=2, color='r')\n",
    "plt.show()"
   ]
  },
  {
   "cell_type": "code",
   "execution_count": 54,
   "metadata": {
    "collapsed": false
   },
   "outputs": [],
   "source": [
    "s = np.random.uniform(-1,0,1000)"
   ]
  },
  {
   "cell_type": "code",
   "execution_count": 55,
   "metadata": {
    "collapsed": true
   },
   "outputs": [
    {
     "data": {
      "text/plain": [
       "array([-4.33967063e-02, -3.61761611e-01, -6.27465273e-01, -8.29034599e-01,\n",
       "       -2.81583096e-02, -2.28263606e-01, -4.22312817e-01, -3.59604454e-01,\n",
       "       -6.55517946e-01, -2.88711759e-01, -1.72406213e-01, -7.55775239e-01,\n",
       "       -6.34247418e-01, -2.58474525e-01, -3.86809527e-02, -4.28144938e-01,\n",
       "       -4.53019981e-01, -5.80382508e-01, -2.35421738e-01, -7.72288324e-01,\n",
       "       -7.45120736e-01, -3.92332234e-01, -4.01976707e-01, -9.04787529e-01,\n",
       "       -2.78329024e-01, -9.27898530e-01, -8.77745292e-01, -4.00679391e-01,\n",
       "       -4.10971532e-01, -9.60933473e-01, -7.85059149e-01, -1.44402295e-01,\n",
       "       -8.78161185e-01, -2.61711210e-01, -8.59010709e-01, -5.91433970e-01,\n",
       "       -2.74139200e-01, -3.84318753e-01, -1.27942246e-01, -1.52507318e-01,\n",
       "       -8.49046519e-01, -9.20378880e-01, -4.29581150e-01, -1.64573162e-02,\n",
       "       -2.39511807e-02, -2.86156305e-01, -5.79501362e-01, -3.75334550e-01,\n",
       "       -3.18366552e-01, -8.62429207e-01, -7.99974956e-01, -6.35760872e-01,\n",
       "       -6.48193486e-02, -2.65619808e-01, -4.96002389e-01, -8.20089423e-01,\n",
       "       -5.71207975e-01, -8.76326342e-01, -3.71435555e-01, -2.31062859e-01,\n",
       "       -3.02167853e-01, -6.44037389e-01, -2.93873532e-01, -6.05132909e-01,\n",
       "       -3.80821302e-01, -2.59009995e-01, -3.69942303e-01, -6.36485484e-02,\n",
       "       -4.41061729e-01, -6.21209374e-01, -8.90238677e-01, -4.96690421e-01,\n",
       "       -2.73859018e-01, -3.47729700e-01, -3.31428140e-01, -8.97626887e-01,\n",
       "       -6.07626531e-01, -2.69122112e-01, -3.05060033e-01, -6.16944703e-01,\n",
       "       -5.53062087e-01, -9.42925088e-01, -6.26071459e-01, -8.03455041e-01,\n",
       "       -4.24860683e-01, -7.84128427e-01, -8.77930193e-01, -2.34518037e-01,\n",
       "       -8.15159490e-02, -1.74123436e-01, -1.84759540e-01, -9.86454544e-01,\n",
       "       -6.48114024e-01, -1.52715437e-01, -7.68634544e-01, -6.08574576e-02,\n",
       "       -1.67204965e-01, -3.40707113e-01, -8.47915767e-01, -1.74610689e-02,\n",
       "       -2.32814144e-01, -2.00436683e-01, -2.83638498e-01, -9.54455240e-01,\n",
       "       -7.79114792e-01, -3.65062600e-02, -8.22212859e-01, -4.26626878e-02,\n",
       "       -9.99083384e-01, -8.34385755e-01, -2.89035616e-01, -8.01202721e-01,\n",
       "       -4.10935020e-01, -9.14530291e-01, -4.36626183e-01, -9.57630500e-01,\n",
       "       -2.25547148e-02, -9.75140692e-01, -1.00809092e-01, -1.51965141e-01,\n",
       "       -1.35239911e-01, -1.85329472e-01, -9.23148095e-02, -3.70829240e-01,\n",
       "       -8.61960531e-01, -3.83695436e-01, -1.75034530e-02, -6.61201865e-01,\n",
       "       -2.28107166e-01, -1.19580996e-01, -8.42622070e-01, -7.98797823e-01,\n",
       "       -5.58564350e-01, -8.75609661e-01, -3.61826737e-01, -9.64362724e-01,\n",
       "       -4.31436271e-01, -6.61007439e-02, -6.67959421e-01, -5.90914760e-01,\n",
       "       -8.85757915e-01, -8.46777322e-01, -3.09123720e-01, -7.17724204e-01,\n",
       "       -6.62164869e-01, -6.76502711e-01, -1.40287288e-01, -5.77315756e-01,\n",
       "       -3.68241272e-01, -7.31884664e-01, -8.63421285e-01, -1.88994094e-01,\n",
       "       -2.13285353e-01, -5.09274745e-02, -8.52660488e-01, -4.89132397e-01,\n",
       "       -5.48939037e-01, -7.49451122e-01, -3.69943056e-01, -6.29059398e-01,\n",
       "       -6.09824269e-01, -7.13829849e-02, -5.88627105e-01, -1.12972628e-01,\n",
       "       -1.38563197e-01, -6.32659182e-01, -3.98125672e-01, -2.54311647e-01,\n",
       "       -4.86346203e-01, -8.87405752e-01, -4.67744533e-01, -8.65602166e-01,\n",
       "       -9.89743367e-01, -6.77418418e-01, -7.67996085e-01, -3.76746916e-01,\n",
       "       -4.38896753e-01, -2.88020313e-01, -6.81840367e-01, -8.63176679e-01,\n",
       "       -5.92982240e-01, -7.92325201e-01, -5.90973208e-01, -1.44547813e-01,\n",
       "       -4.82169077e-01, -5.17366484e-02, -6.13109472e-01, -6.07226616e-01,\n",
       "       -5.47748440e-01, -5.55467932e-01, -6.37238032e-02, -3.07787998e-01,\n",
       "       -2.49799812e-01, -3.47370510e-01, -8.02082738e-01, -5.69481947e-01,\n",
       "       -2.66276767e-01, -2.90494736e-01, -1.09755607e-02, -5.47049819e-01,\n",
       "       -9.80663026e-01, -9.68085737e-01, -7.80222413e-01, -6.37648135e-02,\n",
       "       -6.40075625e-01, -5.45110070e-01, -2.68133017e-03, -7.78437057e-01,\n",
       "       -5.71584265e-01, -8.59292562e-01, -8.94895834e-01, -3.28219153e-03,\n",
       "       -5.63795330e-01, -4.69235728e-01, -4.65858769e-01, -9.59629855e-01,\n",
       "       -3.28584451e-01, -2.36472202e-01, -5.36433035e-02, -4.76806016e-01,\n",
       "       -6.60103132e-01, -4.92283682e-01, -1.16760938e-01, -5.48996666e-01,\n",
       "       -2.98572180e-01, -3.68671107e-01, -7.89038746e-01, -3.23743264e-02,\n",
       "       -6.59157444e-01, -6.67242729e-01, -7.34961405e-01, -1.94178789e-01,\n",
       "       -3.72771715e-01, -7.68470242e-01, -8.22448117e-01, -1.71895179e-01,\n",
       "       -6.43764643e-01, -3.78742972e-01, -7.29357547e-01, -9.40534744e-01,\n",
       "       -6.44886768e-01, -6.90295519e-01, -2.90084500e-01, -9.72745823e-01,\n",
       "       -6.51077384e-01, -9.54313050e-01, -1.26963674e-01, -4.62731069e-01,\n",
       "       -8.24136221e-01, -4.19875901e-01, -9.30353454e-02, -7.24997636e-01,\n",
       "       -1.68629134e-01, -4.93638561e-01, -2.87745803e-01, -9.78859611e-01,\n",
       "       -8.54769676e-01, -6.79869529e-02, -2.13804941e-01, -3.41507691e-01,\n",
       "       -3.19642211e-01, -5.07790803e-01, -9.67951320e-01, -6.22327980e-01,\n",
       "       -3.41201198e-01, -5.22195568e-01, -1.81112099e-01, -1.96142826e-01,\n",
       "       -7.20424214e-01, -3.77322168e-01, -9.33214039e-01, -8.83878277e-01,\n",
       "       -3.60812183e-02, -4.82802118e-01, -1.31310244e-01, -9.49147308e-02,\n",
       "       -1.81452484e-01, -6.32364831e-01, -5.38646515e-01, -8.41491198e-01,\n",
       "       -4.74405337e-01, -2.68946018e-01, -5.78730973e-01, -8.36028256e-01,\n",
       "       -8.09229252e-01, -8.22121892e-02, -1.35657308e-01, -2.55612805e-01,\n",
       "       -3.14134198e-02, -3.28751843e-01, -1.26329030e-01, -2.82863990e-01,\n",
       "       -2.24716815e-01, -4.51651642e-01, -7.37814870e-01, -9.46506840e-01,\n",
       "       -7.16822553e-01, -5.99058665e-01, -5.81109248e-01, -2.28880549e-01,\n",
       "       -3.12104646e-01, -6.06593270e-01, -5.12745695e-01, -1.40887786e-01,\n",
       "       -3.44501402e-01, -4.22110586e-01, -3.08178382e-01, -4.32050852e-01,\n",
       "       -2.76124301e-01, -1.58128545e-01, -2.52457623e-01, -6.35754941e-02,\n",
       "       -9.72816928e-02, -1.39657897e-02, -6.10231483e-01, -4.18416406e-01,\n",
       "       -4.97355757e-01, -6.61028900e-01, -3.06688443e-01, -1.37305126e-01,\n",
       "       -6.95323974e-01, -7.57060224e-01, -4.31380048e-01, -5.19496312e-01,\n",
       "       -8.87003133e-01, -6.75390387e-01, -6.09809704e-01, -7.34586017e-01,\n",
       "       -5.56624879e-01, -5.14623003e-01, -2.82799954e-01, -8.24489821e-01,\n",
       "       -7.22839393e-01, -2.10920223e-01, -7.19000145e-01, -2.26428653e-02,\n",
       "       -3.43496749e-01, -6.62607928e-01, -8.68125490e-01, -4.43980764e-02,\n",
       "       -6.37672648e-01, -5.77515636e-01, -3.28617640e-01, -5.62979494e-01,\n",
       "       -3.28762464e-01, -5.40112680e-01, -9.91979373e-01, -4.91797261e-01,\n",
       "       -1.85204079e-01, -7.88626702e-01, -2.41195610e-01, -9.59478841e-01,\n",
       "       -1.47170917e-01, -2.58819426e-01, -3.10867737e-01, -6.68711257e-01,\n",
       "       -3.45675932e-01, -2.94492987e-01, -8.10327724e-01, -3.84861782e-01,\n",
       "       -6.82836884e-01, -1.13702349e-01, -2.38267801e-01, -8.76266084e-01,\n",
       "       -5.50989544e-02, -5.77800210e-01, -9.35218742e-01, -3.02656938e-01,\n",
       "       -3.19879407e-01, -2.93841429e-01, -3.18199051e-02, -2.60797677e-02,\n",
       "       -4.80250690e-01, -3.56454959e-01, -5.36747004e-01, -5.00248322e-01,\n",
       "       -8.13297840e-01, -8.19018590e-01, -2.42688580e-01, -6.47351979e-01,\n",
       "       -6.86713243e-01, -1.31111863e-01, -7.02449322e-01, -1.32443014e-01,\n",
       "       -7.97485865e-01, -9.73305925e-01, -3.91976872e-01, -8.70108833e-01,\n",
       "       -2.54521018e-01, -2.40450549e-01, -9.70589029e-01, -7.94244863e-01,\n",
       "       -5.68861982e-01, -5.40001432e-01, -9.35989199e-01, -7.29472156e-01,\n",
       "       -2.36250454e-01, -8.02208811e-01, -5.20421967e-01, -3.82190826e-01,\n",
       "       -6.02665858e-01, -7.24090220e-01, -5.94179195e-01, -8.30032952e-02,\n",
       "       -8.72241481e-01, -2.04407579e-01, -7.29013546e-02, -7.19450975e-01,\n",
       "       -6.51131012e-01, -1.49394582e-01, -7.24756847e-02, -3.43761364e-01,\n",
       "       -7.79145848e-02, -1.41260213e-01, -2.97411894e-01, -7.66835195e-01,\n",
       "       -4.54584000e-01, -6.37169012e-01, -5.94898773e-02, -1.93329884e-03,\n",
       "       -8.31178786e-01, -4.03779580e-01, -6.08396863e-01, -5.40631867e-01,\n",
       "       -7.19837969e-01, -1.39837091e-01, -8.74833887e-01, -9.94638815e-01,\n",
       "       -4.65222070e-03, -5.23714682e-01, -6.79964255e-01, -9.61998433e-01,\n",
       "       -5.33780730e-01, -9.43575003e-01, -7.17343102e-01, -7.50499871e-01,\n",
       "       -1.30618945e-01, -1.78601453e-01, -1.73596915e-01, -4.76764997e-01,\n",
       "       -1.53203229e-02, -1.78175733e-01, -7.98119092e-01, -7.24675601e-01,\n",
       "       -2.60738777e-01, -6.60823018e-01, -4.82935835e-01, -7.46592933e-01,\n",
       "       -8.68299406e-01, -1.62122794e-01, -6.08175899e-01, -3.26094541e-01,\n",
       "       -8.61084302e-01, -9.79691379e-02, -4.41572070e-01, -9.20704963e-01,\n",
       "       -4.24982816e-01, -1.04498434e-01, -4.42155233e-01, -5.77514405e-01,\n",
       "       -1.43213936e-01, -1.43207459e-02, -6.11667588e-01, -9.10069402e-01,\n",
       "       -9.31853158e-01, -1.32105727e-01, -6.96331039e-01, -8.71174692e-04,\n",
       "       -4.73013306e-01, -2.54022045e-02, -8.16097040e-01, -6.12425583e-01,\n",
       "       -3.85186424e-01, -4.00811163e-04, -7.49588055e-01, -1.96864535e-01,\n",
       "       -9.10868482e-01, -2.94190145e-01, -4.63532749e-01, -6.92952155e-01,\n",
       "       -4.20232401e-01, -6.90020236e-01, -5.13078679e-01, -6.42897475e-01,\n",
       "       -4.57143472e-01, -9.99180246e-01, -5.07371243e-01, -7.92431186e-01,\n",
       "       -1.18243290e-01, -5.98098810e-01, -7.64796999e-01, -1.42135717e-01,\n",
       "       -1.57370020e-01, -8.60660938e-01, -1.74363355e-01, -6.35031098e-01,\n",
       "       -7.23012821e-01, -6.93000376e-01, -7.30467679e-01, -3.07179389e-02,\n",
       "       -3.42994356e-01, -9.71271810e-01, -1.05989756e-01, -7.02947619e-02,\n",
       "       -5.70365657e-01, -1.66963577e-01, -9.22322936e-01, -4.32493500e-02,\n",
       "       -8.56983542e-01, -2.42867369e-01, -3.57150323e-01, -3.09062405e-01,\n",
       "       -1.06016610e-01, -1.47150600e-01, -1.83465589e-01, -2.97375857e-02,\n",
       "       -8.30215190e-01, -4.44112666e-01, -9.26536838e-01, -9.05499514e-01,\n",
       "       -2.51181836e-01, -2.48822490e-01, -4.65025610e-01, -1.34123997e-01,\n",
       "       -1.90498740e-01, -1.57759541e-01, -9.99395358e-01, -3.14039170e-01,\n",
       "       -4.23875829e-01, -7.76805017e-01, -6.19729242e-01, -7.44271043e-01,\n",
       "       -8.32605374e-01, -8.50031590e-01, -7.17130299e-01, -4.26713118e-01,\n",
       "       -9.38789031e-02, -1.05447972e-01, -8.87944658e-01, -5.41913842e-01,\n",
       "       -2.30367343e-01, -6.84735353e-01, -3.25783329e-01, -8.10834246e-01,\n",
       "       -1.58164674e-01, -9.29652060e-01, -8.28749955e-01, -9.61913425e-01,\n",
       "       -2.63579885e-01, -2.62219254e-01, -2.00258174e-02, -5.25114900e-02,\n",
       "       -4.30644056e-01, -6.81299873e-01, -6.43642257e-02, -8.71407573e-01,\n",
       "       -9.77445629e-01, -6.37156787e-01, -9.35399725e-01, -7.86368409e-01,\n",
       "       -5.43589249e-01, -2.41087127e-01, -3.32600247e-01, -9.20400635e-01,\n",
       "       -9.52786592e-01, -1.51492439e-01, -7.47690693e-01, -1.40882900e-01,\n",
       "       -9.67308121e-03, -9.78977769e-04, -2.90152237e-01, -6.01739556e-01,\n",
       "       -6.37204425e-02, -7.03019094e-01, -1.82593715e-01, -5.83031358e-01,\n",
       "       -9.53001935e-02, -4.05263865e-01, -6.03455831e-01, -7.82959780e-01,\n",
       "       -5.09866375e-01, -6.07825856e-01, -8.04320414e-01, -4.04971636e-01,\n",
       "       -7.20063313e-02, -1.32811942e-01, -2.87166542e-01, -2.67552542e-01,\n",
       "       -5.94447224e-02, -4.47111492e-01, -8.18827426e-01, -8.19915013e-01,\n",
       "       -2.86864631e-01, -6.78471721e-01, -5.89157463e-01, -4.28482315e-01,\n",
       "       -1.70992305e-01, -6.75528258e-01, -9.26783345e-01, -1.55976150e-01,\n",
       "       -1.15499675e-01, -6.57701713e-02, -6.38655570e-01, -8.35227854e-02,\n",
       "       -6.23725096e-01, -6.38868092e-01, -7.66916424e-01, -2.67397457e-01,\n",
       "       -9.25718710e-01, -7.85524090e-01, -7.29790579e-02, -8.36947684e-01,\n",
       "       -6.70364187e-02, -5.89390835e-01, -3.70334304e-02, -6.09488951e-01,\n",
       "       -8.49671649e-01, -8.48415357e-01, -4.19122947e-01, -4.56628718e-01,\n",
       "       -1.41325767e-01, -7.95282319e-01, -6.53462419e-01, -4.86077393e-01,\n",
       "       -3.77694196e-01, -7.76123350e-01, -9.57732260e-01, -7.95764764e-01,\n",
       "       -7.50629700e-01, -5.46304721e-03, -1.22827166e-01, -1.19269100e-01,\n",
       "       -1.98350914e-01, -8.25882968e-01, -5.37056582e-01, -2.09324379e-02,\n",
       "       -2.36135279e-01, -9.81551938e-01, -8.77834661e-01, -1.57715482e-01,\n",
       "       -9.17672068e-01, -6.65622865e-01, -9.67064926e-01, -5.93556584e-01,\n",
       "       -4.37773662e-01, -4.22663167e-01, -6.55597359e-01, -9.34149468e-01,\n",
       "       -9.91248237e-01, -4.15436793e-01, -4.33824667e-01, -1.65230402e-01,\n",
       "       -8.20441984e-02, -1.06519934e-01, -9.82068375e-02, -9.65696605e-01,\n",
       "       -6.80000039e-01, -9.71347813e-01, -7.25604516e-01, -2.11542793e-01,\n",
       "       -2.05843537e-02, -1.67399220e-01, -1.65400551e-01, -2.45953477e-01,\n",
       "       -8.45553682e-01, -9.18393168e-01, -8.06517979e-01, -1.46408941e-01,\n",
       "       -6.56434418e-01, -2.27109472e-01, -7.95099043e-01, -9.46457146e-01,\n",
       "       -4.28972259e-01, -2.61928697e-01, -6.48758228e-01, -2.59351718e-01,\n",
       "       -1.55414498e-01, -7.36679244e-01, -9.61814634e-02, -6.80706568e-01,\n",
       "       -3.28668335e-01, -6.07992076e-01, -3.65558028e-01, -7.08219239e-01,\n",
       "       -3.87602926e-01, -7.45518499e-01, -1.53360289e-01, -4.00508345e-01,\n",
       "       -3.19300554e-01, -9.86933751e-01, -6.04678910e-01, -3.98688885e-01,\n",
       "       -8.99082275e-01, -7.86958651e-01, -8.24170300e-01, -4.45123606e-02,\n",
       "       -4.14219770e-01, -4.15758135e-01, -2.83813949e-01, -2.05790015e-01,\n",
       "       -9.44089678e-01, -6.55020782e-01, -8.88090375e-01, -5.94159387e-01,\n",
       "       -1.13733680e-02, -2.76087642e-01, -8.52682381e-01, -7.12615799e-01,\n",
       "       -6.73419701e-01, -4.11336408e-01, -9.47137612e-01, -3.45304544e-01,\n",
       "       -8.33299968e-01, -7.39188923e-01, -5.52568611e-01, -3.00986998e-01,\n",
       "       -4.05819129e-01, -4.67620557e-01, -5.46506603e-01, -8.17842244e-01,\n",
       "       -4.77199526e-01, -5.84898917e-02, -7.12109091e-01, -4.03338945e-01,\n",
       "       -1.31836022e-01, -2.03873466e-02, -9.26814441e-01, -4.56486270e-01,\n",
       "       -7.89336263e-01, -7.69559324e-01, -6.58498808e-01, -7.96894502e-02,\n",
       "       -4.64314780e-01, -5.29105137e-01, -5.19505329e-01, -3.29553507e-01,\n",
       "       -4.19999559e-01, -9.90903703e-01, -9.39532802e-01, -5.31531157e-01,\n",
       "       -5.68391333e-01, -5.54350283e-01, -8.73705481e-01, -7.79953484e-01,\n",
       "       -1.20839208e-01, -3.13337613e-01, -2.93520459e-01, -8.64977037e-01,\n",
       "       -6.00950691e-01, -9.09391495e-01, -5.32436487e-01, -9.97914369e-01,\n",
       "       -7.27407216e-01, -3.34756192e-01, -8.24876705e-02, -9.44028889e-01,\n",
       "       -5.67002524e-03, -6.34434668e-01, -2.93957393e-01, -1.31394151e-01,\n",
       "       -5.18439033e-01, -9.58759099e-01, -4.35617546e-03, -3.62997025e-01,\n",
       "       -2.27237750e-01, -6.39332887e-01, -8.80011195e-02, -1.64327300e-01,\n",
       "       -7.72433965e-01, -1.85883117e-01, -5.39135097e-01, -9.17566581e-01,\n",
       "       -6.49568247e-02, -9.61209053e-01, -4.81687458e-01, -1.21158544e-01,\n",
       "       -2.66034745e-01, -7.59098155e-01, -6.32833366e-01, -5.40057535e-01,\n",
       "       -2.61969110e-01, -7.71988542e-01, -4.63619412e-01, -1.88457237e-01,\n",
       "       -4.55775107e-01, -2.93602828e-01, -5.27393081e-01, -7.14323277e-01,\n",
       "       -1.62524610e-01, -6.19963000e-01, -4.61895173e-01, -8.91090341e-02,\n",
       "       -8.93084827e-01, -3.40159874e-01, -7.12611530e-01, -8.84671997e-01,\n",
       "       -2.11621049e-01, -1.97492364e-01, -5.97300109e-01, -8.80093093e-01,\n",
       "       -2.73585546e-02, -4.52694425e-01, -9.97248671e-01, -5.33121190e-01,\n",
       "       -8.64650929e-02, -7.08979688e-01, -3.60769171e-01, -6.09171167e-01,\n",
       "       -8.83628012e-01, -5.18607122e-01, -2.14318772e-01, -9.33342972e-01,\n",
       "       -5.29304193e-01, -3.37074571e-01, -2.33279626e-01, -5.76731723e-01,\n",
       "       -2.98802287e-01, -7.35257850e-01, -4.35150992e-01, -7.44537811e-01,\n",
       "       -9.39873128e-01, -9.91190579e-01, -7.39967455e-01, -5.46959313e-01,\n",
       "       -4.96668337e-01, -4.19303998e-01, -8.01012333e-01, -3.03172869e-01,\n",
       "       -5.55473375e-01, -7.59497687e-01, -5.28226546e-01, -7.53929687e-01,\n",
       "       -8.18791585e-01, -7.73718160e-01, -5.55426584e-01, -8.44812633e-01,\n",
       "       -6.31375812e-01, -8.05083793e-01, -4.52568851e-02, -9.85440383e-01,\n",
       "       -9.89050282e-01, -5.95717357e-01, -3.41156946e-01, -1.43953859e-01,\n",
       "       -7.09445365e-02, -1.19039357e-01, -8.56553349e-01, -7.41733530e-01,\n",
       "       -5.46439746e-01, -5.40712558e-01, -3.51407476e-01, -4.31027176e-02,\n",
       "       -3.97416701e-01, -9.83170209e-01, -1.42189070e-01, -9.78112928e-01,\n",
       "       -4.62234131e-01, -1.93311543e-01, -1.11477655e-01, -5.76797580e-01,\n",
       "       -7.82969602e-01, -8.51554174e-01, -7.98418102e-01, -7.71993507e-01,\n",
       "       -6.23067622e-01, -2.89023492e-01, -5.00419606e-01, -3.43785568e-01,\n",
       "       -6.63786019e-02, -1.54756659e-01, -8.04318062e-01, -6.01429068e-01,\n",
       "       -4.74505183e-01, -4.60043715e-01, -1.31266199e-01, -4.79560093e-01,\n",
       "       -7.48433559e-01, -7.73952769e-01, -8.92527298e-01, -1.64717496e-01,\n",
       "       -9.43490730e-01, -5.93768307e-01, -2.77418564e-01, -6.81740148e-01,\n",
       "       -3.58298605e-01, -1.19327828e-01, -2.05406166e-01, -1.49177921e-01,\n",
       "       -8.43030439e-01, -2.95266055e-01, -4.94875039e-01, -7.11078272e-01,\n",
       "       -2.82524390e-01, -6.11196242e-01, -3.09773130e-01, -2.87433230e-01,\n",
       "       -2.95437377e-01, -3.30397340e-01, -7.42782290e-01, -9.12107020e-01,\n",
       "       -2.21588220e-01, -9.33956958e-01, -7.70293298e-01, -7.33795477e-01,\n",
       "       -9.61865704e-01, -3.95768206e-01, -8.12683297e-01, -9.89298943e-01,\n",
       "       -3.59449851e-02, -5.95031272e-01, -8.62912731e-01, -5.94502090e-01,\n",
       "       -9.03807220e-01, -2.57842782e-03, -8.84704914e-01, -7.98395892e-01,\n",
       "       -4.99122332e-01, -4.04765409e-01, -2.84741107e-01, -8.34637825e-01,\n",
       "       -9.48987937e-01, -8.32260178e-01, -4.81037042e-01, -6.12725908e-01,\n",
       "       -9.33212598e-02, -5.53621159e-01, -7.97759147e-01, -6.83649516e-01,\n",
       "       -3.59722066e-01, -1.45741064e-01, -9.23761997e-02, -8.89600489e-01,\n",
       "       -1.44215439e-01, -9.59027045e-01, -5.74491174e-01, -2.71544972e-01,\n",
       "       -2.11009574e-01, -9.91958161e-01, -8.66388537e-01, -9.31800788e-01,\n",
       "       -9.66973201e-01, -7.40777860e-01, -2.51274592e-01, -4.54755400e-01,\n",
       "       -5.36572650e-02, -2.29148228e-01, -2.19232797e-01, -8.59398053e-01,\n",
       "       -1.34854579e-01, -2.21765125e-01, -7.40509088e-01, -1.57926368e-01,\n",
       "       -8.92186851e-01, -8.00941275e-02, -8.21326252e-01, -5.30774445e-01,\n",
       "       -1.44001404e-02, -3.46084424e-01, -3.45272523e-01, -5.96024877e-01,\n",
       "       -4.89888836e-01, -1.69835234e-01, -7.93742561e-01, -4.35075521e-01,\n",
       "       -4.23184471e-01, -8.09194548e-01, -4.95524703e-02, -9.69354474e-01,\n",
       "       -8.68412006e-01, -2.56713124e-01, -9.29518657e-01, -2.15810568e-01,\n",
       "       -7.23395071e-01, -1.93709816e-01, -2.81783790e-01, -8.13005673e-01,\n",
       "       -3.41351126e-01, -9.33986388e-01, -7.04660378e-01, -8.29078122e-01,\n",
       "       -5.14338923e-01, -9.81793129e-01, -4.27465127e-02, -9.91296703e-01,\n",
       "       -8.54015743e-01, -2.30012931e-01, -9.99959128e-02, -7.47997909e-02,\n",
       "       -2.00299217e-01, -1.78341111e-01, -1.38362944e-01, -9.21859686e-01,\n",
       "       -2.26792795e-01, -9.39817522e-01, -2.07339350e-01, -7.92006857e-01,\n",
       "       -1.27427041e-01, -5.59886778e-01, -2.41057979e-01, -4.17162920e-01])"
      ]
     },
     "execution_count": 55,
     "metadata": {},
     "output_type": "execute_result"
    }
   ],
   "source": [
    "s"
   ]
  },
  {
   "cell_type": "code",
   "execution_count": 56,
   "metadata": {
    "collapsed": false
   },
   "outputs": [
    {
     "data": {
      "image/png": "[encoded data removed]",
      "text/plain": [
       "<Figure size 432x288 with 1 Axes>"
      ]
     },
     "metadata": {},
     "output_type": "display_data"
    }
   ],
   "source": [
    "import matplotlib.pyplot as plt\n",
    "count, bins, ignored = plt.hist(s, 15, density=True)\n",
    "plt.plot(bins, np.ones_like(bins), linewidth=2, color='r')\n",
    "plt.show()"
   ]
  },
  {
   "cell_type": "code",
   "execution_count": 66,
   "metadata": {
    "collapsed": true
   },
   "outputs": [],
   "source": [
    "# https://stackoverflow.com/questions/46868855/numpy-replacing-values-in-a-2d-array-efficiently-using-a-dictionary-as-a-map\n",
    "import numpy as np\n",
    "\n",
    "a = np.array([[  3,   0,   2,  -1],\n",
    "              [  1, 255,   1,   2],\n",
    "              [  0,   3,   2,   2]])\n",
    "\n",
    "d = {0: 1, 1: 2, 2: 3, 3: 4, -1: 0, 255: 0}\n",
    "\n",
    "b = np.copy(a)\n",
    "for old, new in d.items():\n",
    "    b[a == old] = new"
   ]
  },
  {
   "cell_type": "code",
   "execution_count": 67,
   "metadata": {
    "collapsed": false
   },
   "outputs": [
    {
     "data": {
      "text/plain": [
       "array([[4, 1, 3, 0],\n",
       "       [2, 0, 2, 3],\n",
       "       [1, 4, 3, 3]])"
      ]
     },
     "execution_count": 67,
     "metadata": {},
     "output_type": "execute_result"
    }
   ],
   "source": [
    "b"
   ]
  },
  {
   "cell_type": "code",
   "execution_count": 116,
   "metadata": {
    "collapsed": false
   },
   "outputs": [],
   "source": [
    "a = np.array((1,2,3))    # index.values\n",
    "b = np.full(a.size, '-')   # default filled column\n",
    "hs = np.hstack((a,b))\n",
    "blk = np.block([a, b])\n",
    "vs = np.vstack((a,b))     # 2D array\n",
    "\n",
    "dst = np.dstack((a,b)).reshape(a.size, 2)\n",
    "#dst = dst.reshape(a.size,2)"
   ]
  },
  {
   "cell_type": "code",
   "execution_count": 115,
   "metadata": {
    "collapsed": false
   },
   "outputs": [
    {
     "data": {
      "text/plain": [
       "array([['1', '-'],\n",
       "       ['2', '-'],\n",
       "       ['3', '-']], dtype='<U21')"
      ]
     },
     "execution_count": 115,
     "metadata": {},
     "output_type": "execute_result"
    }
   ],
   "source": [
    "#c.shape\n",
    "dst"
   ]
  },
  {
   "cell_type": "code",
   "execution_count": 117,
   "metadata": {
    "collapsed": false
   },
   "outputs": [
    {
     "data": {
      "text/plain": [
       "(3, 2)"
      ]
     },
     "execution_count": 117,
     "metadata": {},
     "output_type": "execute_result"
    }
   ],
   "source": [
    "dst.shape"
   ]
  },
  {
   "cell_type": "code",
   "execution_count": 118,
   "metadata": {
    "collapsed": false
   },
   "outputs": [
    {
     "data": {
      "text/plain": [
       "array(['-', '-', '-'], dtype='<U21')"
      ]
     },
     "execution_count": 118,
     "metadata": {},
     "output_type": "execute_result"
    }
   ],
   "source": [
    "dst[:, 1] #"
   ]
  },
  {
   "cell_type": "code",
   "execution_count": 101,
   "metadata": {
    "collapsed": false
   },
   "outputs": [
    {
     "data": {
      "text/plain": [
       "(4, 2)"
      ]
     },
     "execution_count": 101,
     "metadata": {},
     "output_type": "execute_result"
    }
   ],
   "source": [
    "x.shape"
   ]
  },
  {
   "cell_type": "code",
   "execution_count": 67,
   "metadata": {
    "collapsed": false
   },
   "outputs": [
    {
     "name": "stdout",
     "output_type": "stream",
     "text": [
      "[[1 0]\n",
      " [2 0]\n",
      " [3 0]]\n",
      "\n",
      "[[1 0]\n",
      " [2 0]\n",
      " [3 0]]\n"
     ]
    }
   ],
   "source": [
    "import numpy as np\n",
    "a = np.array((1,2,3))    # index.values\n",
    "b = np.full(a.size, 0)   # default filled column\n",
    "d = {1: -1, 2:-2, 3: -3, 4:-4}\n",
    "#dst = np.dstack((a,b)).reshape(a.size, 2) ## OK\n",
    "dst = np.column_stack((a,b))\n",
    "print(dst)\n",
    "#print(dst.shape)\n",
    "print()\n",
    "for k,v in d.items():\n",
    "#    print(dst[:,1])\n",
    "    #print('>>>' + str(dst[np.where(dst[:,0] == k)]))\n",
    "    dst[np.where(dst[:,0]) == k] = v\n",
    "print(dst)\n"
   ]
  },
  {
   "cell_type": "code",
   "execution_count": 80,
   "metadata": {
    "collapsed": false
   },
   "outputs": [
    {
     "name": "stdout",
     "output_type": "stream",
     "text": [
      "[[1 0]\n",
      " [2 0]\n",
      " [3 0]]\n",
      "\n",
      ">>>[[1]]\n",
      ">>>[[2]]\n",
      ">>>[[3]]\n",
      ">>>[]\n",
      "[[ 1 -1]\n",
      " [ 2 -2]\n",
      " [ 3 -3]]\n"
     ]
    }
   ],
   "source": [
    "import numpy as np\n",
    "a = np.array((1,2,3))    # index.values\n",
    "b = np.full(a.size, 0)   # default filled column\n",
    "d = {1: -1, 2:-2, 3: -3, 4:-4}\n",
    "#dst = np.dstack((a,b)).reshape(a.size, 2) ## OK\n",
    "dst = np.column_stack((a,b))\n",
    "print(dst)\n",
    "#print(dst.shape)\n",
    "print()\n",
    "for k,v in d.items():\n",
    "#    print(dst[:,1])\n",
    "    print('>>>' + str(dst[np.where(dst[:,0] == k), 0]))\n",
    "    #dst[np.where(dst[:,1] = v\n",
    "    #    b[a == old] = new\n",
    "    dst[np.where(dst[:,0] == k), 1] = v\n",
    "\n",
    "print(dst)\n",
    "    #idx= dst[np.where(dst[:,0] == k)]\n",
    "    #dst[idx] = v\n",
    "    \n",
    "    #if (dst[np.where(dst[:,0] == k)]):\n",
    "    #    print('match')\n",
    "    #else:\n",
    "    #    print('match')\n",
    "    \n",
    "\n",
    "#\n",
    "#print(dst[:,0][0])# prima colonna/proma riga\n",
    "#a[np.where(a[:,0] == 9)]\n",
    "\n",
    "#dst[:, 1]\n",
    "#np.append([a], [b], axis=0)\n",
    "\n",
    "#b = np.copy(a)\n",
    "#for old, new in d.items():\n",
    "#    b[a == old] = new"
   ]
  },
  {
   "cell_type": "code",
   "execution_count": 2,
   "metadata": {
    "collapsed": false
   },
   "outputs": [
    {
     "name": "stdout",
     "output_type": "stream",
     "text": [
      "[[4. 4. 4. 4.]\n",
      " [4. 4. 4. 4.]\n",
      " [4. 4. 4. 4.]] \n",
      "\n",
      "[[4. 4. 4. 4. 1.]\n",
      " [4. 4. 4. 4. 1.]\n",
      " [4. 4. 4. 4. 1.]] \n",
      "\n",
      "\n"
     ]
    }
   ],
   "source": [
    "import numpy as np\n",
    "a = np.ones((3,4))*4\n",
    "print (a, '\\n')\n",
    "c = np.array([1,1,1])\n",
    "b = np.c_[a,c]\n",
    "print(b, '\\n\\n')"
   ]
  },
  {
   "cell_type": "code",
   "execution_count": 160,
   "metadata": {
    "collapsed": false
   },
   "outputs": [
    {
     "data": {
      "text/plain": [
       "array([1, 2, 3, 0, 0, 0])"
      ]
     },
     "execution_count": 160,
     "metadata": {},
     "output_type": "execute_result"
    }
   ],
   "source": []
  },
  {
   "cell_type": "code",
   "execution_count": 10,
   "metadata": {
    "collapsed": false
   },
   "outputs": [],
   "source": [
    "import pandas as pd\n",
    "import numpy as np\n",
    "data = [\n",
    "['2018-04-25 18:37:00',       5862,        4427],\n",
    "['2018-04-25 21:36:30',       6421,        4581],\n",
    "['2018-04-25 22:13:00',       5948,        4779],\n",
    "['2018-04-26 00:11:30',       5703,        4314],\n",
    "['2018-04-26 02:27:00',       4988,        3868],\n",
    "['2018-04-26 04:28:30',       4812,        3823],\n",
    "['2018-04-26 06:22:30',       4347,        3672],\n",
    "['2018-04-26 10:50:30',       3896,        3546],\n",
    "['2018-04-26 12:04:30',       3478,        3557],\n",
    "['2018-04-26 14:02:30',       3625,        3598],\n",
    "['2018-04-26 15:31:30',       3751,        3606]\n",
    "]\n",
    "\n",
    "data = pd.DataFrame(data, columns=['datetime', 'discharge1', 'discharge2'])\n",
    "data['datetime'] = data['datetime'].apply(pd.to_datetime)\n",
    "data = data.set_index('datetime')"
   ]
  },
  {
   "cell_type": "code",
   "execution_count": 11,
   "metadata": {
    "collapsed": false
   },
   "outputs": [
    {
     "data": {
      "text/plain": [
       "array(['2018-04-25T18:37:00.000000000', '2018-04-25T21:36:30.000000000',\n",
       "       '2018-04-25T22:13:00.000000000', '2018-04-26T00:11:30.000000000',\n",
       "       '2018-04-26T02:27:00.000000000', '2018-04-26T04:28:30.000000000',\n",
       "       '2018-04-26T06:22:30.000000000', '2018-04-26T10:50:30.000000000',\n",
       "       '2018-04-26T12:04:30.000000000', '2018-04-26T14:02:30.000000000',\n",
       "       '2018-04-26T15:31:30.000000000'], dtype='datetime64[ns]')"
      ]
     },
     "execution_count": 11,
     "metadata": {},
     "output_type": "execute_result"
    }
   ],
   "source": [
    "data.index.values"
   ]
  },
  {
   "cell_type": "code",
   "execution_count": 15,
   "metadata": {
    "collapsed": false
   },
   "outputs": [],
   "source": [
    "t = data.index.values[0]"
   ]
  },
  {
   "cell_type": "code",
   "execution_count": 16,
   "metadata": {
    "collapsed": false
   },
   "outputs": [
    {
     "data": {
      "text/plain": [
       "'2018-04-25'"
      ]
     },
     "execution_count": 16,
     "metadata": {},
     "output_type": "execute_result"
    }
   ],
   "source": [
    "str(t)[:10]"
   ]
  },
  {
   "cell_type": "code",
   "execution_count": null,
   "metadata": {
    "collapsed": true
   },
   "outputs": [],
   "source": []
  }
 ],
 "metadata": {
  "anaconda-cloud": {},
  "kernelspec": {
   "display_name": "Python [conda env:test]",
   "language": "python",
   "name": "conda-env-test-py"
  },
  "language_info": {
   "codemirror_mode": {
    "name": "ipython",
    "version": 3
   },
   "file_extension": ".py",
   "mimetype": "text/x-python",
   "name": "python",
   "nbconvert_exporter": "python",
   "pygments_lexer": "ipython3",
   "version": "3.5.5"
  }
 },
 "nbformat": 4,
 "nbformat_minor": 1
}
