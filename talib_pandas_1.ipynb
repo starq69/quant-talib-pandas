{
 "cells": [
  {
   "cell_type": "code",
   "execution_count": 1,
   "metadata": {
    "collapsed": true
   },
   "outputs": [],
   "source": [
    "import numpy as np\n",
    "import pandas as pd"
   ]
  },
  {
   "cell_type": "code",
   "execution_count": 2,
   "metadata": {
    "collapsed": true
   },
   "outputs": [],
   "source": [
    "pdf = pd.read_csv('/home/starq/REP/DATA/FINANCE/Quotazioni/ASA.csv' \\\n",
    "                                 ,usecols=['Date','Open', 'High', 'Low', 'Close', 'Volume'] \\\n",
    "                                 ,parse_dates=['Date'],infer_datetime_format=True \\\n",
    "                                 ,index_col='Date')"
   ]
  },
  {
   "cell_type": "code",
   "execution_count": 3,
   "metadata": {
    "collapsed": false
   },
   "outputs": [
    {
     "name": "stdout",
     "output_type": "stream",
     "text": [
      "<class 'pandas.core.frame.DataFrame'>\n",
      "DatetimeIndex: 9741 entries, 1978-01-03 to 2016-08-12\n",
      "Data columns (total 5 columns):\n",
      "Open      9741 non-null float64\n",
      "High      9741 non-null float64\n",
      "Low       9741 non-null float64\n",
      "Close     9741 non-null float64\n",
      "Volume    9741 non-null int64\n",
      "dtypes: float64(4), int64(1)\n",
      "memory usage: 456.6 KB\n"
     ]
    }
   ],
   "source": [
    "pdf.info()"
   ]
  },
  {
   "cell_type": "code",
   "execution_count": 4,
   "metadata": {
    "collapsed": true
   },
   "outputs": [],
   "source": [
    "def high_low_pct_range(high,low):\n",
    "    return (((high - low) / low) * 100)"
   ]
  },
  {
   "cell_type": "code",
   "execution_count": 5,
   "metadata": {
    "collapsed": false
   },
   "outputs": [
    {
     "name": "stdout",
     "output_type": "stream",
     "text": [
      "The slowest run took 101.62 times longer than the fastest. This could mean that an intermediate result is being cached.\n",
      "1000 loops, best of 3: 178 µs per loop\n"
     ]
    }
   ],
   "source": [
    "%timeit pdf['high_low_pct_range'] = high_low_pct_range(pdf['High'].values, pdf['Low'].values)"
   ]
  },
  {
   "cell_type": "code",
   "execution_count": 6,
   "metadata": {
    "collapsed": false
   },
   "outputs": [
    {
     "data": {
      "text/html": [
       "<div>\n",
       "<style scoped>\n",
       "    .dataframe tbody tr th:only-of-type {\n",
       "        vertical-align: middle;\n",
       "    }\n",
       "\n",
       "    .dataframe tbody tr th {\n",
       "        vertical-align: top;\n",
       "    }\n",
       "\n",
       "    .dataframe thead th {\n",
       "        text-align: right;\n",
       "    }\n",
       "</style>\n",
       "<table border=\"1\" class=\"dataframe\">\n",
       "  <thead>\n",
       "    <tr style=\"text-align: right;\">\n",
       "      <th></th>\n",
       "      <th>Open</th>\n",
       "      <th>High</th>\n",
       "      <th>Low</th>\n",
       "      <th>Close</th>\n",
       "      <th>Volume</th>\n",
       "      <th>high_low_pct_range</th>\n",
       "    </tr>\n",
       "    <tr>\n",
       "      <th>Date</th>\n",
       "      <th></th>\n",
       "      <th></th>\n",
       "      <th></th>\n",
       "      <th></th>\n",
       "      <th></th>\n",
       "      <th></th>\n",
       "    </tr>\n",
       "  </thead>\n",
       "  <tbody>\n",
       "    <tr>\n",
       "      <th>1978-01-03</th>\n",
       "      <td>20.25000</td>\n",
       "      <td>21.62499</td>\n",
       "      <td>20.25000</td>\n",
       "      <td>21.62499</td>\n",
       "      <td>151500</td>\n",
       "      <td>6.790074</td>\n",
       "    </tr>\n",
       "    <tr>\n",
       "      <th>1978-01-04</th>\n",
       "      <td>21.62499</td>\n",
       "      <td>22.37499</td>\n",
       "      <td>20.75001</td>\n",
       "      <td>21.00000</td>\n",
       "      <td>226500</td>\n",
       "      <td>7.831225</td>\n",
       "    </tr>\n",
       "    <tr>\n",
       "      <th>1978-01-05</th>\n",
       "      <td>21.00000</td>\n",
       "      <td>21.87501</td>\n",
       "      <td>20.37501</td>\n",
       "      <td>21.75000</td>\n",
       "      <td>167100</td>\n",
       "      <td>7.361960</td>\n",
       "    </tr>\n",
       "    <tr>\n",
       "      <th>1978-01-06</th>\n",
       "      <td>21.75000</td>\n",
       "      <td>21.99999</td>\n",
       "      <td>21.50001</td>\n",
       "      <td>21.62499</td>\n",
       "      <td>141300</td>\n",
       "      <td>2.325487</td>\n",
       "    </tr>\n",
       "    <tr>\n",
       "      <th>1978-01-09</th>\n",
       "      <td>21.62499</td>\n",
       "      <td>21.75000</td>\n",
       "      <td>21.37500</td>\n",
       "      <td>21.75000</td>\n",
       "      <td>87600</td>\n",
       "      <td>1.754386</td>\n",
       "    </tr>\n",
       "  </tbody>\n",
       "</table>\n",
       "</div>"
      ],
      "text/plain": [
       "                Open      High       Low     Close  Volume  high_low_pct_range\n",
       "Date                                                                          \n",
       "1978-01-03  20.25000  21.62499  20.25000  21.62499  151500            6.790074\n",
       "1978-01-04  21.62499  22.37499  20.75001  21.00000  226500            7.831225\n",
       "1978-01-05  21.00000  21.87501  20.37501  21.75000  167100            7.361960\n",
       "1978-01-06  21.75000  21.99999  21.50001  21.62499  141300            2.325487\n",
       "1978-01-09  21.62499  21.75000  21.37500  21.75000   87600            1.754386"
      ]
     },
     "execution_count": 6,
     "metadata": {},
     "output_type": "execute_result"
    }
   ],
   "source": [
    "pdf.head()"
   ]
  },
  {
   "cell_type": "code",
   "execution_count": 7,
   "metadata": {
    "collapsed": true
   },
   "outputs": [],
   "source": [
    "import talib"
   ]
  },
  {
   "cell_type": "markdown",
   "metadata": {},
   "source": [
    "## Calculating bollinger bands, with triple exponential moving average"
   ]
  },
  {
   "cell_type": "code",
   "execution_count": 8,
   "metadata": {
    "collapsed": true
   },
   "outputs": [],
   "source": [
    "from talib import MA_Type"
   ]
  },
  {
   "cell_type": "code",
   "execution_count": 9,
   "metadata": {
    "collapsed": false
   },
   "outputs": [
    {
     "name": "stdout",
     "output_type": "stream",
     "text": [
      "The slowest run took 13.78 times longer than the fastest. This could mean that an intermediate result is being cached.\n",
      "1000 loops, best of 3: 446 µs per loop\n"
     ]
    }
   ],
   "source": [
    "%timeit pdf['BB_upper'], pdf['BB_middle'], pdf['BB_lower'] = talib.BBANDS(pdf['Close'].values, matype=MA_Type.T3)\n"
   ]
  },
  {
   "cell_type": "code",
   "execution_count": 10,
   "metadata": {
    "collapsed": false
   },
   "outputs": [
    {
     "data": {
      "text/html": [
       "<div>\n",
       "<style scoped>\n",
       "    .dataframe tbody tr th:only-of-type {\n",
       "        vertical-align: middle;\n",
       "    }\n",
       "\n",
       "    .dataframe tbody tr th {\n",
       "        vertical-align: top;\n",
       "    }\n",
       "\n",
       "    .dataframe thead th {\n",
       "        text-align: right;\n",
       "    }\n",
       "</style>\n",
       "<table border=\"1\" class=\"dataframe\">\n",
       "  <thead>\n",
       "    <tr style=\"text-align: right;\">\n",
       "      <th></th>\n",
       "      <th>Open</th>\n",
       "      <th>High</th>\n",
       "      <th>Low</th>\n",
       "      <th>Close</th>\n",
       "      <th>Volume</th>\n",
       "      <th>high_low_pct_range</th>\n",
       "      <th>BB_upper</th>\n",
       "      <th>BB_middle</th>\n",
       "      <th>BB_lower</th>\n",
       "    </tr>\n",
       "    <tr>\n",
       "      <th>Date</th>\n",
       "      <th></th>\n",
       "      <th></th>\n",
       "      <th></th>\n",
       "      <th></th>\n",
       "      <th></th>\n",
       "      <th></th>\n",
       "      <th></th>\n",
       "      <th></th>\n",
       "      <th></th>\n",
       "    </tr>\n",
       "  </thead>\n",
       "  <tbody>\n",
       "    <tr>\n",
       "      <th>2016-08-08</th>\n",
       "      <td>16.270000</td>\n",
       "      <td>16.590000</td>\n",
       "      <td>16.26</td>\n",
       "      <td>16.530001</td>\n",
       "      <td>115600</td>\n",
       "      <td>2.029520</td>\n",
       "      <td>16.634941</td>\n",
       "      <td>16.432792</td>\n",
       "      <td>16.230643</td>\n",
       "    </tr>\n",
       "    <tr>\n",
       "      <th>2016-08-09</th>\n",
       "      <td>16.600000</td>\n",
       "      <td>16.860001</td>\n",
       "      <td>16.58</td>\n",
       "      <td>16.760000</td>\n",
       "      <td>92100</td>\n",
       "      <td>1.688788</td>\n",
       "      <td>16.878563</td>\n",
       "      <td>16.522810</td>\n",
       "      <td>16.167057</td>\n",
       "    </tr>\n",
       "    <tr>\n",
       "      <th>2016-08-10</th>\n",
       "      <td>16.930000</td>\n",
       "      <td>17.230000</td>\n",
       "      <td>16.90</td>\n",
       "      <td>17.080000</td>\n",
       "      <td>85400</td>\n",
       "      <td>1.952663</td>\n",
       "      <td>17.233974</td>\n",
       "      <td>16.652473</td>\n",
       "      <td>16.070971</td>\n",
       "    </tr>\n",
       "    <tr>\n",
       "      <th>2016-08-11</th>\n",
       "      <td>17.180000</td>\n",
       "      <td>17.320000</td>\n",
       "      <td>17.01</td>\n",
       "      <td>17.040001</td>\n",
       "      <td>88000</td>\n",
       "      <td>1.822457</td>\n",
       "      <td>17.405298</td>\n",
       "      <td>16.791510</td>\n",
       "      <td>16.177722</td>\n",
       "    </tr>\n",
       "    <tr>\n",
       "      <th>2016-08-12</th>\n",
       "      <td>17.370001</td>\n",
       "      <td>17.480000</td>\n",
       "      <td>16.73</td>\n",
       "      <td>16.820000</td>\n",
       "      <td>213800</td>\n",
       "      <td>4.482965</td>\n",
       "      <td>17.289060</td>\n",
       "      <td>16.888740</td>\n",
       "      <td>16.488421</td>\n",
       "    </tr>\n",
       "  </tbody>\n",
       "</table>\n",
       "</div>"
      ],
      "text/plain": [
       "                 Open       High    Low      Close  Volume  \\\n",
       "Date                                                         \n",
       "2016-08-08  16.270000  16.590000  16.26  16.530001  115600   \n",
       "2016-08-09  16.600000  16.860001  16.58  16.760000   92100   \n",
       "2016-08-10  16.930000  17.230000  16.90  17.080000   85400   \n",
       "2016-08-11  17.180000  17.320000  17.01  17.040001   88000   \n",
       "2016-08-12  17.370001  17.480000  16.73  16.820000  213800   \n",
       "\n",
       "            high_low_pct_range   BB_upper  BB_middle   BB_lower  \n",
       "Date                                                             \n",
       "2016-08-08            2.029520  16.634941  16.432792  16.230643  \n",
       "2016-08-09            1.688788  16.878563  16.522810  16.167057  \n",
       "2016-08-10            1.952663  17.233974  16.652473  16.070971  \n",
       "2016-08-11            1.822457  17.405298  16.791510  16.177722  \n",
       "2016-08-12            4.482965  17.289060  16.888740  16.488421  "
      ]
     },
     "execution_count": 10,
     "metadata": {},
     "output_type": "execute_result"
    }
   ],
   "source": [
    "pdf.tail()"
   ]
  },
  {
   "cell_type": "markdown",
   "metadata": {},
   "source": [
    "## Calculating momentum of the close prices, with a time period of 5"
   ]
  },
  {
   "cell_type": "code",
   "execution_count": 11,
   "metadata": {
    "collapsed": false
   },
   "outputs": [
    {
     "name": "stdout",
     "output_type": "stream",
     "text": [
      "The slowest run took 15.17 times longer than the fastest. This could mean that an intermediate result is being cached.\n",
      "10000 loops, best of 3: 124 µs per loop\n"
     ]
    }
   ],
   "source": [
    "%timeit pdf['mom_close_5'] = talib.MOM(pdf['Close'].values, timeperiod=5)"
   ]
  },
  {
   "cell_type": "markdown",
   "metadata": {},
   "source": [
    "## Stochastic"
   ]
  },
  {
   "cell_type": "code",
   "execution_count": 12,
   "metadata": {
    "collapsed": false
   },
   "outputs": [
    {
     "name": "stdout",
     "output_type": "stream",
     "text": [
      "The slowest run took 6.84 times longer than the fastest. This could mean that an intermediate result is being cached.\n",
      "1000 loops, best of 3: 515 µs per loop\n"
     ]
    }
   ],
   "source": [
    "%timeit pdf['slowk'], pdf['slowd'] = talib.STOCH \\\n",
    "        (pdf['High'].values, pdf['Low'].values, pdf['Close'].values, 5, 3, 0, 3, 0)"
   ]
  },
  {
   "cell_type": "code",
   "execution_count": null,
   "metadata": {
    "collapsed": true
   },
   "outputs": [],
   "source": []
  }
 ],
 "metadata": {
  "anaconda-cloud": {},
  "kernelspec": {
   "display_name": "Python [default]",
   "language": "python",
   "name": "python3"
  },
  "language_info": {
   "codemirror_mode": {
    "name": "ipython",
    "version": 3
   },
   "file_extension": ".py",
   "mimetype": "text/x-python",
   "name": "python",
   "nbconvert_exporter": "python",
   "pygments_lexer": "ipython3",
   "version": "3.5.5"
  }
 },
 "nbformat": 4,
 "nbformat_minor": 1
}
