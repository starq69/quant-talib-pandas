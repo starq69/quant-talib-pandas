{
 "cells": [
  {
   "cell_type": "code",
   "execution_count": 1,
   "metadata": {
    "collapsed": true
   },
   "outputs": [],
   "source": [
    "import numpy as np\n",
    "import pandas as pd"
   ]
  },
  {
   "cell_type": "code",
   "execution_count": 5,
   "metadata": {
    "collapsed": false
   },
   "outputs": [],
   "source": [
    "pdf = pd.read_csv('/home/starq/REP/DATA/FINANCE/Quotazioni/ASA.csv' \\\n",
    "                                 ,usecols=['Date','Open', 'High', 'Low', 'Close', 'Volume'] \\\n",
    "                                 ,parse_dates=['Date'],infer_datetime_format=True \\\n",
    "                                 ,index_col='Date')"
   ]
  },
  {
   "cell_type": "code",
   "execution_count": 12,
   "metadata": {
    "collapsed": false
   },
   "outputs": [],
   "source": [
    "# thanks to Curtis MILLER\n",
    "# https://ntguardian.wordpress.com/2018/07/17/stock-data-analysis-python-v2/\n",
    "   \n",
    "import matplotlib.pyplot as plt\n",
    "from matplotlib.dates import DateFormatter, WeekdayLocator, DayLocator, MONDAY, date2num\n",
    "from mpl_finance import candlestick_ohlc\n",
    "\n",
    "def pandas_candlestick_ohlc (dat, stick = \"day\", adj = False, otherseries = None):\n",
    "    \"\"\"\n",
    "    :param dat  : pandas DataFrame object with datetime64 index, and float columns \"Open\", \"High\", \n",
    "                  \"Low\", and \"Close\", likely created via DataReader from \"yahoo\"\n",
    "    :param stick: A string or number indicating the period of time covered by a single candlestick. \n",
    "                  Valid string inputs include \"day\", \"week\", \"month\", and \"year\", (\"day\" default), \n",
    "                  and any numeric input indicates the number of trading days included in a period\n",
    "    :param adj  : A boolean indicating whether to use adjusted prices\n",
    "    :param otherseries: An iterable that will be coerced into a list, containing the columns of dat that \n",
    "                        hold other series to be plotted as lines\n",
    "\n",
    "    This will show a Japanese candlestick plot for stock data stored in dat, also plotting other series if passed.\n",
    "    \"\"\"\n",
    "    mondays = WeekdayLocator(MONDAY)        # major ticks on the mondays\n",
    "    alldays = DayLocator()              # minor ticks on the days\n",
    "    dayFormatter = DateFormatter('%d')      # e.g., 12\n",
    "\n",
    "    # Create a new DataFrame which includes OHLC data for each period specified by stick input\n",
    "    fields = [\"Open\", \"High\", \"Low\", \"Close\"]\n",
    "    if adj:\n",
    "        fields = [\"Adj. \" + s for s in fields]\n",
    "    transdat = dat.loc[:,fields]\n",
    "    transdat.columns = pd.Index([\"Open\", \"High\", \"Low\", \"Close\"])\n",
    "    if (type(stick) == str):\n",
    "        if stick == \"day\":\n",
    "            plotdat = transdat\n",
    "            stick = 1 # Used for plotting\n",
    "        elif stick in [\"week\", \"month\", \"year\"]:\n",
    "            if stick == \"week\":\n",
    "                transdat[\"week\"] = pd.to_datetime(transdat.index).map(lambda x: x.isocalendar()[1]) # Identify weeks\n",
    "            elif stick == \"month\":\n",
    "                transdat[\"month\"] = pd.to_datetime(transdat.index).map(lambda x: x.month) # Identify months\n",
    "            transdat[\"year\"] = pd.to_datetime(transdat.index).map(lambda x: x.isocalendar()[0]) # Identify years\n",
    "            grouped = transdat.groupby(list(set([\"year\",stick]))) # Group by year and other appropriate variable\n",
    "            plotdat = pd.DataFrame({\"Open\": [], \"High\": [], \"Low\": [], \"Close\": []}) # Create empty data frame containing what will be plotted\n",
    "            for name, group in grouped:\n",
    "                plotdat = plotdat.append(pd.DataFrame({\"Open\": group.iloc[0,0],\n",
    "                                            \"High\": max(group.High),\n",
    "                                            \"Low\": min(group.Low),\n",
    "                                            \"Close\": group.iloc[-1,3]},\n",
    "                                           index = [group.index[0]]))\n",
    "            if stick == \"week\": stick = 5\n",
    "            elif stick == \"month\": stick = 30\n",
    "            elif stick == \"year\": stick = 365\n",
    "\n",
    "    elif (type(stick) == int and stick >= 1):\n",
    "        transdat[\"stick\"] = [np.floor(i / stick) for i in range(len(transdat.index))]\n",
    "        grouped = transdat.groupby(\"stick\")\n",
    "        plotdat = pd.DataFrame({\"Open\": [], \"High\": [], \"Low\": [], \"Close\": []}) # Create empty data frame containing what will be plotted\n",
    "        for name, group in grouped:\n",
    "            plotdat = plotdat.append(pd.DataFrame({\"Open\": group.iloc[0,0],\n",
    "                                        \"High\": max(group.High),\n",
    "                                        \"Low\": min(group.Low),\n",
    "                                        \"Close\": group.iloc[-1,3]},\n",
    "                                       index = [group.index[0]]))\n",
    "\n",
    "    else:\n",
    "        raise ValueError('Valid inputs to argument \"stick\" include the strings \"day\", \"week\", \"month\", \"year\", or a positive integer')\n",
    "\n",
    "\n",
    "    # Set plot parameters, including the axis object ax used for plotting\n",
    "    fig, ax = plt.subplots()\n",
    "    fig.subplots_adjust(bottom=0.2)\n",
    "    if plotdat.index[-1] - plotdat.index[0] < pd.Timedelta('730 days'):\n",
    "        weekFormatter = DateFormatter('%b %d')  # e.g., Jan 12\n",
    "        ax.xaxis.set_major_locator(mondays)\n",
    "        ax.xaxis.set_minor_locator(alldays)\n",
    "    else:\n",
    "        weekFormatter = DateFormatter('%b %d, %Y')\n",
    "    ax.xaxis.set_major_formatter(weekFormatter)\n",
    "\n",
    "    ax.grid(True)\n",
    "\n",
    "    # Create the candelstick chart\n",
    "    candlestick_ohlc(ax, list(zip(list(date2num(plotdat.index.tolist())), plotdat[\"Open\"].tolist(), plotdat[\"High\"].tolist(),\n",
    "                      plotdat[\"Low\"].tolist(), plotdat[\"Close\"].tolist())),\n",
    "                      colorup = \"green\", colordown = \"red\", width = stick * .4)\n",
    "\n",
    "    # Plot other series (such as moving averages) as lines\n",
    "    if otherseries != None:\n",
    "        if type(otherseries) != list:\n",
    "            otherseries = [otherseries]\n",
    "        dat.loc[:,otherseries].plot(ax = ax, lw = 1.3, grid = True)\n",
    "\n",
    "    ax.xaxis_date()\n",
    "    ax.autoscale_view()\n",
    "    plt.setp(plt.gca().get_xticklabels(), rotation=45, horizontalalignment='right')\n",
    "\n",
    "    plt.show()"
   ]
  },
  {
   "cell_type": "code",
   "execution_count": 13,
   "metadata": {
    "collapsed": false
   },
   "outputs": [
    {
     "data": {
      "image/png": "[encoded data removed]",
      "text/plain": [
       "<Figure size 432x288 with 1 Axes>"
      ]
     },
     "metadata": {},
     "output_type": "display_data"
    }
   ],
   "source": [
    "pandas_candlestick_ohlc(pdf, adj=False, stick=\"year\")"
   ]
  },
  {
   "cell_type": "code",
   "execution_count": null,
   "metadata": {
    "collapsed": true
   },
   "outputs": [],
   "source": []
  }
 ],
 "metadata": {
  "anaconda-cloud": {},
  "kernelspec": {
   "display_name": "Python [conda env:test]",
   "language": "python",
   "name": "conda-env-test-py"
  },
  "language_info": {
   "codemirror_mode": {
    "name": "ipython",
    "version": 3
   },
   "file_extension": ".py",
   "mimetype": "text/x-python",
   "name": "python",
   "nbconvert_exporter": "python",
   "pygments_lexer": "ipython3",
   "version": "3.5.5"
  }
 },
 "nbformat": 4,
 "nbformat_minor": 0
}
