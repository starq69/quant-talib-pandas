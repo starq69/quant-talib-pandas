{
 "cells": [
  {
   "cell_type": "code",
   "execution_count": 20,
   "metadata": {
    "collapsed": false
   },
   "outputs": [],
   "source": [
    "import datetime\n",
    "import numpy as np \n",
    "import pandas as pd"
   ]
  },
  {
   "cell_type": "code",
   "execution_count": 21,
   "metadata": {
    "collapsed": false
   },
   "outputs": [
    {
     "name": "stdout",
     "output_type": "stream",
     "text": [
      "<2002-06-28> <<class 'numpy.datetime64'>>\n"
     ]
    }
   ],
   "source": [
    "dt64 = np.datetime64('2002-06-28') #.astype(datetime)\n",
    "print('<{}> <{}>'.format(dt64, type(dt64)))"
   ]
  },
  {
   "cell_type": "code",
   "execution_count": 47,
   "metadata": {
    "collapsed": true
   },
   "outputs": [],
   "source": [
    "todays_date = datetime.datetime.now().date()\n",
    "delta_days  = 27 "
   ]
  },
  {
   "cell_type": "code",
   "execution_count": 50,
   "metadata": {
    "collapsed": true
   },
   "outputs": [],
   "source": [
    "days = np.arange('2005-02', '2005-03', dtype='datetime64[D]')"
   ]
  },
  {
   "cell_type": "code",
   "execution_count": null,
   "metadata": {
    "collapsed": true
   },
   "outputs": [],
   "source": [
    "date_range  = pd.date_range(todays_date - datetime.timedelta(delta_days), periods=delta_days+1, freq='D')"
   ]
  },
  {
   "cell_type": "code",
   "execution_count": 51,
   "metadata": {
    "collapsed": false
   },
   "outputs": [
    {
     "data": {
      "text/plain": [
       "array(['2005-02-01', '2005-02-02', '2005-02-03', '2005-02-04',\n",
       "       '2005-02-05', '2005-02-06', '2005-02-07', '2005-02-08',\n",
       "       '2005-02-09', '2005-02-10', '2005-02-11', '2005-02-12',\n",
       "       '2005-02-13', '2005-02-14', '2005-02-15', '2005-02-16',\n",
       "       '2005-02-17', '2005-02-18', '2005-02-19', '2005-02-20',\n",
       "       '2005-02-21', '2005-02-22', '2005-02-23', '2005-02-24',\n",
       "       '2005-02-25', '2005-02-26', '2005-02-27', '2005-02-28'],\n",
       "      dtype='datetime64[D]')"
      ]
     },
     "execution_count": 51,
     "metadata": {},
     "output_type": "execute_result"
    }
   ],
   "source": [
    "days"
   ]
  },
  {
   "cell_type": "code",
   "execution_count": 43,
   "metadata": {
    "collapsed": false
   },
   "outputs": [],
   "source": [
    "todays_date = datetime.datetime.now().date()\n",
    "delta_days  = 27 \n",
    "date_range  = pd.date_range(todays_date - datetime.timedelta(delta_days), periods=delta_days+1, freq='D')\n",
    "pdf = pd.DataFrame(index=date_range, columns=['x','y']).fillna(0)"
   ]
  },
  {
   "cell_type": "code",
   "execution_count": 44,
   "metadata": {
    "collapsed": false
   },
   "outputs": [
    {
     "name": "stdout",
     "output_type": "stream",
     "text": [
      "100 loops, best of 3: 2.1 ms per loop\n"
     ]
    }
   ],
   "source": [
    "%%timeit\n",
    "pdf = pd.DataFrame(index=date_range, columns=['x','y']).fillna(0)"
   ]
  },
  {
   "cell_type": "code",
   "execution_count": 38,
   "metadata": {
    "collapsed": false
   },
   "outputs": [
    {
     "data": {
      "text/plain": [
       "DatetimeIndex(['2018-10-10', '2018-10-11', '2018-10-12', '2018-10-13',\n",
       "               '2018-10-14', '2018-10-15', '2018-10-16', '2018-10-17',\n",
       "               '2018-10-18', '2018-10-19', '2018-10-20'],\n",
       "              dtype='datetime64[ns]', freq='D')"
      ]
     },
     "execution_count": 38,
     "metadata": {},
     "output_type": "execute_result"
    }
   ],
   "source": [
    "pdf.index"
   ]
  },
  {
   "cell_type": "code",
   "execution_count": 45,
   "metadata": {
    "collapsed": false
   },
   "outputs": [
    {
     "name": "stdout",
     "output_type": "stream",
     "text": [
      "The slowest run took 4.43 times longer than the fastest. This could mean that an intermediate result is being cached.\n",
      "100 loops, best of 3: 2.19 ms per loop\n"
     ]
    }
   ],
   "source": [
    "%%timeit\n",
    "pdf = pd.DataFrame(index=days, columns=['x','y']).fillna(0)"
   ]
  },
  {
   "cell_type": "code",
   "execution_count": 46,
   "metadata": {
    "collapsed": false
   },
   "outputs": [
    {
     "data": {
      "text/plain": [
       "DatetimeIndex(['2018-09-23', '2018-09-24', '2018-09-25', '2018-09-26',\n",
       "               '2018-09-27', '2018-09-28', '2018-09-29', '2018-09-30',\n",
       "               '2018-10-01', '2018-10-02', '2018-10-03', '2018-10-04',\n",
       "               '2018-10-05', '2018-10-06', '2018-10-07', '2018-10-08',\n",
       "               '2018-10-09', '2018-10-10', '2018-10-11', '2018-10-12',\n",
       "               '2018-10-13', '2018-10-14', '2018-10-15', '2018-10-16',\n",
       "               '2018-10-17', '2018-10-18', '2018-10-19', '2018-10-20'],\n",
       "              dtype='datetime64[ns]', freq='D')"
      ]
     },
     "execution_count": 46,
     "metadata": {},
     "output_type": "execute_result"
    }
   ],
   "source": [
    "pdf.index"
   ]
  },
  {
   "cell_type": "code",
   "execution_count": 8,
   "metadata": {
    "collapsed": false
   },
   "outputs": [
    {
     "data": {
      "text/plain": [
       "Timestamp('2002-06-28 00:00:00')"
      ]
     },
     "execution_count": 8,
     "metadata": {},
     "output_type": "execute_result"
    }
   ],
   "source": [
    "pd.Timestamp(dt64)"
   ]
  },
  {
   "cell_type": "code",
   "execution_count": 31,
   "metadata": {
    "collapsed": true
   },
   "outputs": [
    {
     "name": "stdout",
     "output_type": "stream",
     "text": [
      "Help on function timedelta_range in module pandas.core.indexes.timedeltas:\n",
      "\n",
      "timedelta_range(start=None, end=None, periods=None, freq=None, name=None, closed=None)\n",
      "    Return a fixed frequency TimedeltaIndex, with day as the default\n",
      "    frequency\n",
      "    \n",
      "    Parameters\n",
      "    ----------\n",
      "    start : string or timedelta-like, default None\n",
      "        Left bound for generating timedeltas\n",
      "    end : string or timedelta-like, default None\n",
      "        Right bound for generating timedeltas\n",
      "    periods : integer, default None\n",
      "        Number of periods to generate\n",
      "    freq : string or DateOffset, default 'D' (calendar daily)\n",
      "        Frequency strings can have multiples, e.g. '5H'\n",
      "    name : string, default None\n",
      "        Name of the resulting TimedeltaIndex\n",
      "    closed : string, default None\n",
      "        Make the interval closed with respect to the given frequency to\n",
      "        the 'left', 'right', or both sides (None)\n",
      "    \n",
      "    Returns\n",
      "    -------\n",
      "    rng : TimedeltaIndex\n",
      "    \n",
      "    Notes\n",
      "    -----\n",
      "    Of the four parameters ``start``, ``end``, ``periods``, and ``freq``,\n",
      "    exactly three must be specified. If ``freq`` is omitted, the resulting\n",
      "    ``TimedeltaIndex`` will have ``periods`` linearly spaced elements between\n",
      "    ``start`` and ``end`` (closed on both sides).\n",
      "    \n",
      "    To learn more about the frequency strings, please see `this link\n",
      "    <http://pandas.pydata.org/pandas-docs/stable/timeseries.html#offset-aliases>`__.\n",
      "    \n",
      "    Examples\n",
      "    --------\n",
      "    \n",
      "    >>> pd.timedelta_range(start='1 day', periods=4)\n",
      "    TimedeltaIndex(['1 days', '2 days', '3 days', '4 days'],\n",
      "                   dtype='timedelta64[ns]', freq='D')\n",
      "    \n",
      "    The ``closed`` parameter specifies which endpoint is included.  The default\n",
      "    behavior is to include both endpoints.\n",
      "    \n",
      "    >>> pd.timedelta_range(start='1 day', periods=4, closed='right')\n",
      "    TimedeltaIndex(['2 days', '3 days', '4 days'],\n",
      "                   dtype='timedelta64[ns]', freq='D')\n",
      "    \n",
      "    The ``freq`` parameter specifies the frequency of the TimedeltaIndex.\n",
      "    Only fixed frequencies can be passed, non-fixed frequencies such as\n",
      "    'M' (month end) will raise.\n",
      "    \n",
      "    >>> pd.timedelta_range(start='1 day', end='2 days', freq='6H')\n",
      "    TimedeltaIndex(['1 days 00:00:00', '1 days 06:00:00', '1 days 12:00:00',\n",
      "                    '1 days 18:00:00', '2 days 00:00:00'],\n",
      "                   dtype='timedelta64[ns]', freq='6H')\n",
      "    \n",
      "    Specify ``start``, ``end``, and ``periods``; the frequency is generated\n",
      "    automatically (linearly spaced).\n",
      "    \n",
      "    >>> pd.timedelta_range(start='1 day', end='5 days', periods=4)\n",
      "    TimedeltaIndex(['1 days 00:00:00', '2 days 08:00:00', '3 days 16:00:00',\n",
      "                '5 days 00:00:00'],\n",
      "               dtype='timedelta64[ns]', freq=None)\n",
      "\n"
     ]
    }
   ],
   "source": [
    "help(pd.timedelta_range)"
   ]
  },
  {
   "cell_type": "code",
   "execution_count": 85,
   "metadata": {
    "collapsed": false
   },
   "outputs": [
    {
     "name": "stdout",
     "output_type": "stream",
     "text": [
      "Current date:\n",
      "2018-10-20\n",
      "dt64:\n",
      "2018-10-20\n"
     ]
    }
   ],
   "source": [
    "dt = datetime.datetime.now().date()\n",
    "print(\"Current date:\")\n",
    "print(dt)\n",
    "dt64 = np.datetime64(dt)\n",
    "\n",
    "#ts = (dt64 - np.datetime64('1970-01-01T00:00:00Z')) / np.timedelta64(1, 's')\n",
    "print(\"dt64:\")\n",
    "print(dt64)"
   ]
  },
  {
   "cell_type": "code",
   "execution_count": 87,
   "metadata": {
    "collapsed": false
   },
   "outputs": [],
   "source": [
    "date_range  = pd.date_range(dt - datetime.timedelta(9), periods=10, freq='D')"
   ]
  },
  {
   "cell_type": "code",
   "execution_count": 96,
   "metadata": {
    "collapsed": false
   },
   "outputs": [
    {
     "data": {
      "text/plain": [
       "DatetimeIndex(['2018-10-11', '2018-10-12', '2018-10-13', '2018-10-14',\n",
       "               '2018-10-15', '2018-10-16', '2018-10-17', '2018-10-18',\n",
       "               '2018-10-19', '2018-10-20'],\n",
       "              dtype='datetime64[ns]', freq='D')"
      ]
     },
     "execution_count": 96,
     "metadata": {},
     "output_type": "execute_result"
    }
   ],
   "source": [
    "date_range"
   ]
  },
  {
   "cell_type": "code",
   "execution_count": 97,
   "metadata": {
    "collapsed": false
   },
   "outputs": [],
   "source": [
    "lst = [np.datetime64(value) for value in date_range]\n",
    "#d = {key: value for (key, value) in iterable}\n",
    "_dict = {np.datetime64(dt) : 'special day' for dt in date_range}"
   ]
  },
  {
   "cell_type": "markdown",
   "metadata": {
    "collapsed": true
   },
   "source": [
    "## perfplot"
   ]
  },
  {
   "cell_type": "code",
   "execution_count": 4,
   "metadata": {
    "collapsed": false
   },
   "outputs": [
    {
     "name": "stderr",
     "output_type": "stream",
     "text": [
      "  0%|          | 0/3 [00:00<?, ?it/s]\n",
      "  0%|          | 0/5 [00:00<?, ?it/s]\u001b[A\n",
      " 20%|██        | 1/5 [00:00<00:01,  2.85it/s]\u001b[A\n",
      " 40%|████      | 2/5 [00:00<00:00,  3.02it/s]\u001b[A\n",
      " 60%|██████    | 3/5 [00:00<00:00,  3.29it/s]\u001b[A\n",
      " 80%|████████  | 4/5 [00:01<00:00,  3.70it/s]\u001b[A\n",
      "100%|██████████| 5/5 [00:01<00:00,  3.79it/s]\u001b[A\n",
      " 33%|███▎      | 1/3 [00:01<00:02,  1.32s/it]\n",
      "  0%|          | 0/5 [00:00<?, ?it/s]\u001b[A\n",
      " 20%|██        | 1/5 [00:00<00:01,  2.50it/s]\u001b[A\n",
      " 40%|████      | 2/5 [00:00<00:01,  2.62it/s]\u001b[A\n",
      " 60%|██████    | 3/5 [00:01<00:00,  2.88it/s]\u001b[A\n",
      " 80%|████████  | 4/5 [00:01<00:00,  3.25it/s]\u001b[A\n",
      "100%|██████████| 5/5 [00:01<00:00,  3.49it/s]\u001b[A\n",
      " 67%|██████▋   | 2/3 [00:02<00:01,  1.37s/it]\n",
      "  0%|          | 0/5 [00:00<?, ?it/s]\u001b[A\n",
      " 20%|██        | 1/5 [00:00<00:01,  2.30it/s]\u001b[A\n",
      " 40%|████      | 2/5 [00:00<00:01,  2.65it/s]\u001b[A\n",
      " 60%|██████    | 3/5 [00:00<00:00,  3.35it/s]\u001b[A\n",
      " 80%|████████  | 4/5 [00:01<00:00,  3.44it/s]\u001b[A\n",
      "100%|██████████| 5/5 [00:01<00:00,  3.77it/s]\u001b[A\n",
      "100%|██████████| 3/3 [00:04<00:00,  1.34s/it]\n"
     ]
    },
    {
     "data": {
      "image/png": "[encoded data removed]",
      "text/plain": [
       "<Figure size 432x288 with 1 Axes>"
      ]
     },
     "metadata": {},
     "output_type": "display_data"
    }
   ],
   "source": [
    "import numpy\n",
    "import perfplot\n",
    "\n",
    "perfplot.show(\n",
    "    setup=numpy.random.rand,\n",
    "    kernels=[\n",
    "        lambda a: numpy.c_[a, a],\n",
    "        lambda a: numpy.stack([a, a]).T,\n",
    "        lambda a: numpy.vstack([a, a]).T,\n",
    "        lambda a: numpy.column_stack([a, a]),\n",
    "        lambda a: numpy.concatenate([a[:, None], a[:, None]], axis=1)\n",
    "        ],\n",
    "    labels=['c_', 'stack', 'vstack', 'column_stack', 'concat'],\n",
    "    n_range=[2**k for k in range(12)],\n",
    "    xlabel='len(a)'\n",
    "    )"
   ]
  },
  {
   "cell_type": "code",
   "execution_count": 10,
   "metadata": {
    "collapsed": true
   },
   "outputs": [],
   "source": [
    "a = numpy.array([1,2,3,4,5,6,7,8,9])\n",
    "b = numpy.array([11,12,13,14,15,16,17,18,19])"
   ]
  },
  {
   "cell_type": "code",
   "execution_count": 11,
   "metadata": {
    "collapsed": true
   },
   "outputs": [],
   "source": [
    "ab_cs = numpy.column_stack([a, b])"
   ]
  },
  {
   "cell_type": "code",
   "execution_count": 12,
   "metadata": {
    "collapsed": false
   },
   "outputs": [
    {
     "data": {
      "text/plain": [
       "array([[ 1, 11],\n",
       "       [ 2, 12],\n",
       "       [ 3, 13],\n",
       "       [ 4, 14],\n",
       "       [ 5, 15],\n",
       "       [ 6, 16],\n",
       "       [ 7, 17],\n",
       "       [ 8, 18],\n",
       "       [ 9, 19]])"
      ]
     },
     "execution_count": 12,
     "metadata": {},
     "output_type": "execute_result"
    }
   ],
   "source": [
    "ab_cs"
   ]
  },
  {
   "cell_type": "code",
   "execution_count": 15,
   "metadata": {
    "collapsed": true
   },
   "outputs": [],
   "source": [
    "ab_ct = numpy.concatenate([a[:, None], b[:, None]], axis=1)"
   ]
  },
  {
   "cell_type": "code",
   "execution_count": 16,
   "metadata": {
    "collapsed": false
   },
   "outputs": [
    {
     "data": {
      "text/plain": [
       "array([[ 1, 11],\n",
       "       [ 2, 12],\n",
       "       [ 3, 13],\n",
       "       [ 4, 14],\n",
       "       [ 5, 15],\n",
       "       [ 6, 16],\n",
       "       [ 7, 17],\n",
       "       [ 8, 18],\n",
       "       [ 9, 19]])"
      ]
     },
     "execution_count": 16,
     "metadata": {},
     "output_type": "execute_result"
    }
   ],
   "source": [
    "ab_ct"
   ]
  },
  {
   "cell_type": "code",
   "execution_count": null,
   "metadata": {
    "collapsed": true
   },
   "outputs": [],
   "source": []
  }
 ],
 "metadata": {
  "anaconda-cloud": {},
  "kernelspec": {
   "display_name": "Python [conda env:test]",
   "language": "python",
   "name": "conda-env-test-py"
  },
  "language_info": {
   "codemirror_mode": {
    "name": "ipython",
    "version": 3
   },
   "file_extension": ".py",
   "mimetype": "text/x-python",
   "name": "python",
   "nbconvert_exporter": "python",
   "pygments_lexer": "ipython3",
   "version": "3.5.5"
  }
 },
 "nbformat": 4,
 "nbformat_minor": 2
}
