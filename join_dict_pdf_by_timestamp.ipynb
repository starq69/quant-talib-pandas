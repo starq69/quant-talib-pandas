{
 "cells": [
  {
   "cell_type": "markdown",
   "metadata": {},
   "source": [
    "## l'esigenza è quella di valorizzare una nuova colonna del dataframe con valori definiti in un dizionario le cui chiavi possono o meno corrispondere ai valori del dataframe index (timestamp)\n"
   ]
  },
  {
   "cell_type": "markdown",
   "metadata": {},
   "source": [
    "## TBD: test prestazionali con perfplot (modificare le dim. del dict rispetto al df)\n",
    "## TBD: test np.fromiter (perfplot_map_fx_numpy_arr.ipynb)\n",
    "https://stackoverflow.com/questions/35215161/most-efficient-way-to-map-function-over-numpy-array/46470401#46470401\n",
    "https://stackoverflow.com/questions/8486294/how-to-add-an-extra-column-to-a-numpy-array/40218298#40218298\n",
    "https://stackoverflow.com/questions/9236926/concatenating-two-one-dimensional-numpy-arrays"
   ]
  },
  {
   "cell_type": "code",
   "execution_count": 7,
   "metadata": {
    "collapsed": true
   },
   "outputs": [],
   "source": [
    "import datetime\n",
    "import pandas as pd\n",
    "import numpy as np\n",
    "\n",
    "todays_date = datetime.datetime.now().date()\n",
    "delta_days  = 100\n",
    "date_range  = pd.date_range(todays_date - datetime.timedelta(delta_days), periods=delta_days+1, freq='D')\n",
    "df          = pd.DataFrame(index=date_range, columns=['x','y']).fillna(0)"
   ]
  },
  {
   "cell_type": "code",
   "execution_count": 8,
   "metadata": {
    "collapsed": true
   },
   "outputs": [],
   "source": [
    "from random import choice, randint\n",
    "\n",
    "kind_of_day   = [\"special day\", \"work day\"]\n",
    "my_choice     = choice(kind_of_day)\n",
    "\n",
    "_dict_pd_date_range  = {dt : choice(kind_of_day) for dt in date_range}\n",
    "_vectorized_dict     = {dt : choice(kind_of_day) for dt in df.index.values}"
   ]
  },
  {
   "cell_type": "code",
   "execution_count": 9,
   "metadata": {
    "collapsed": false
   },
   "outputs": [],
   "source": [
    "# rimuovo un elem. qualsiasi x il test funzionale\n",
    "#_vectorized_dict\n",
    "del _vectorized_dict[np.datetime64('2018-10-22T00:00:00.000000000')]"
   ]
  },
  {
   "cell_type": "code",
   "execution_count": 10,
   "metadata": {
    "collapsed": false
   },
   "outputs": [],
   "source": [
    "# rimuovo un elem. qualsiasi x il test funzionale\n",
    "#_dict_pd_date_range\n",
    "del _dict_pd_date_range[pd.Timestamp('2018-10-11 00:00:00', freq='D')]"
   ]
  },
  {
   "cell_type": "code",
   "execution_count": 11,
   "metadata": {
    "collapsed": false
   },
   "outputs": [
    {
     "data": {
      "text/plain": [
       "'    \\ndef f1(a, d):\\n    b = copy(a)\\n    for k, v in d.iteritems():\\n        b[a==k] = v\\n    return b\\n'"
      ]
     },
     "execution_count": 11,
     "metadata": {},
     "output_type": "execute_result"
    }
   ],
   "source": [
    "def check_day_pd_date_range (row):\n",
    "    '''\n",
    "    45.8 ms\n",
    "    '''\n",
    "    key = pd.to_datetime(row.name)\n",
    "    if key in _dict_pd_date_range:\n",
    "        return _dict_pd_date_range[key]\n",
    "    else:\n",
    "        return '-'\n",
    "        \n",
    "    \n",
    "def vectorized_check_day (indexes):\n",
    "    '''\n",
    "    3.72 ms (~ 12x)\n",
    "    '''\n",
    "    return [_vectorized_dict[index] if index in _vectorized_dict else None for index in indexes]\n",
    " \n",
    "    \n",
    "def np_column_stack (indexes):\n",
    "    '''\n",
    "    np_column_stack NON migliora le performance di vectorized_check_day (indexes)\n",
    "    \n",
    "    '''\n",
    "    target = np.full(indexes.size, None)   # default filled column\n",
    "    \n",
    "    #dst = np.dstack((indexes,target)).reshape(indexes.size, 2) ## OK...\n",
    "    dst = np.column_stack( (indexes, target) ) ### BETTER\n",
    "    #dst = np.column_stack((indexes, np.full(indexes.size, None)))\n",
    "    \n",
    "    for k,v in _vectorized_dict.items():\n",
    "        dst[np.where(dst[:,0] == k), 1] = v\n",
    "    \n",
    "    return dst[:, 1] # return column 1\n",
    "\n",
    "\n",
    "def np_concatenate (indexes):\n",
    "    '''\n",
    "    equivalente alla np_column_stack\n",
    "    '''\n",
    "    \n",
    "    target = np.full(indexes.size, None)\n",
    "    dst    = np.concatenate([indexes[:, None], target[:, None]], axis=1) # perfplot example\n",
    "    \n",
    "    for k,v in _vectorized_dict.items():\n",
    "        dst[np.where(dst[:,0] == k), 1] = v\n",
    "    \n",
    "    return dst[:, 1]\n",
    "    \n",
    "'''    \n",
    "def f1(a, d):\n",
    "    b = copy(a)\n",
    "    for k, v in d.iteritems():\n",
    "        b[a==k] = v\n",
    "    return b\n",
    "'''\n",
    "\n",
    " \n"
   ]
  },
  {
   "cell_type": "code",
   "execution_count": 6,
   "metadata": {
    "collapsed": false
   },
   "outputs": [
    {
     "data": {
      "text/plain": [
       "1000"
      ]
     },
     "execution_count": 6,
     "metadata": {},
     "output_type": "execute_result"
    }
   ],
   "source": [
    "len(_vectorized_dict)"
   ]
  },
  {
   "cell_type": "code",
   "execution_count": 7,
   "metadata": {
    "collapsed": false
   },
   "outputs": [
    {
     "name": "stdout",
     "output_type": "stream",
     "text": [
      "100 loops, best of 3: 3.63 ms per loop\n"
     ]
    }
   ],
   "source": [
    "%%timeit \n",
    "df['special_day'] = vectorized_check_day(df.index.values)"
   ]
  },
  {
   "cell_type": "code",
   "execution_count": 8,
   "metadata": {
    "collapsed": false
   },
   "outputs": [
    {
     "name": "stdout",
     "output_type": "stream",
     "text": [
      "10 loops, best of 3: 46.5 ms per loop\n"
     ]
    }
   ],
   "source": [
    "%%timeit\n",
    "df['special_day'] = df.apply(lambda row: check_day_pd_date_range(row), axis=1)"
   ]
  },
  {
   "cell_type": "code",
   "execution_count": 16,
   "metadata": {
    "collapsed": false
   },
   "outputs": [
    {
     "name": "stdout",
     "output_type": "stream",
     "text": [
      "10 loops, best of 3: 21.8 ms per loop\n"
     ]
    }
   ],
   "source": [
    "%%timeit\n",
    "df['special_day'] = np_column_stack(df.index.values)"
   ]
  },
  {
   "cell_type": "code",
   "execution_count": 15,
   "metadata": {
    "collapsed": false
   },
   "outputs": [
    {
     "name": "stdout",
     "output_type": "stream",
     "text": [
      "10 loops, best of 3: 21.8 ms per loop\n"
     ]
    }
   ],
   "source": [
    "%%timeit\n",
    "df['special_day'] = np_concatenate(df.index.values)"
   ]
  },
  {
   "cell_type": "code",
   "execution_count": 39,
   "metadata": {
    "collapsed": false
   },
   "outputs": [
    {
     "data": {
      "text/html": [
       "<div>\n",
       "<style scoped>\n",
       "    .dataframe tbody tr th:only-of-type {\n",
       "        vertical-align: middle;\n",
       "    }\n",
       "\n",
       "    .dataframe tbody tr th {\n",
       "        vertical-align: top;\n",
       "    }\n",
       "\n",
       "    .dataframe thead th {\n",
       "        text-align: right;\n",
       "    }\n",
       "</style>\n",
       "<table border=\"1\" class=\"dataframe\">\n",
       "  <thead>\n",
       "    <tr style=\"text-align: right;\">\n",
       "      <th></th>\n",
       "      <th>x</th>\n",
       "      <th>y</th>\n",
       "      <th>special_day</th>\n",
       "    </tr>\n",
       "  </thead>\n",
       "  <tbody>\n",
       "    <tr>\n",
       "      <th>2018-10-12</th>\n",
       "      <td>0</td>\n",
       "      <td>0</td>\n",
       "      <td>special day</td>\n",
       "    </tr>\n",
       "    <tr>\n",
       "      <th>2018-10-13</th>\n",
       "      <td>0</td>\n",
       "      <td>0</td>\n",
       "      <td>special day</td>\n",
       "    </tr>\n",
       "    <tr>\n",
       "      <th>2018-10-14</th>\n",
       "      <td>0</td>\n",
       "      <td>0</td>\n",
       "      <td>special day</td>\n",
       "    </tr>\n",
       "    <tr>\n",
       "      <th>2018-10-15</th>\n",
       "      <td>0</td>\n",
       "      <td>0</td>\n",
       "      <td>special day</td>\n",
       "    </tr>\n",
       "    <tr>\n",
       "      <th>2018-10-16</th>\n",
       "      <td>0</td>\n",
       "      <td>0</td>\n",
       "      <td>work day</td>\n",
       "    </tr>\n",
       "    <tr>\n",
       "      <th>2018-10-17</th>\n",
       "      <td>0</td>\n",
       "      <td>0</td>\n",
       "      <td>work day</td>\n",
       "    </tr>\n",
       "    <tr>\n",
       "      <th>2018-10-18</th>\n",
       "      <td>0</td>\n",
       "      <td>0</td>\n",
       "      <td>special day</td>\n",
       "    </tr>\n",
       "    <tr>\n",
       "      <th>2018-10-19</th>\n",
       "      <td>0</td>\n",
       "      <td>0</td>\n",
       "      <td>work day</td>\n",
       "    </tr>\n",
       "    <tr>\n",
       "      <th>2018-10-20</th>\n",
       "      <td>0</td>\n",
       "      <td>0</td>\n",
       "      <td>work day</td>\n",
       "    </tr>\n",
       "    <tr>\n",
       "      <th>2018-10-21</th>\n",
       "      <td>0</td>\n",
       "      <td>0</td>\n",
       "      <td>special day</td>\n",
       "    </tr>\n",
       "    <tr>\n",
       "      <th>2018-10-22</th>\n",
       "      <td>0</td>\n",
       "      <td>0</td>\n",
       "      <td>None</td>\n",
       "    </tr>\n",
       "  </tbody>\n",
       "</table>\n",
       "</div>"
      ],
      "text/plain": [
       "            x  y  special_day\n",
       "2018-10-12  0  0  special day\n",
       "2018-10-13  0  0  special day\n",
       "2018-10-14  0  0  special day\n",
       "2018-10-15  0  0  special day\n",
       "2018-10-16  0  0     work day\n",
       "2018-10-17  0  0     work day\n",
       "2018-10-18  0  0  special day\n",
       "2018-10-19  0  0     work day\n",
       "2018-10-20  0  0     work day\n",
       "2018-10-21  0  0  special day\n",
       "2018-10-22  0  0         None"
      ]
     },
     "execution_count": 39,
     "metadata": {},
     "output_type": "execute_result"
    }
   ],
   "source": [
    "df"
   ]
  },
  {
   "cell_type": "code",
   "execution_count": 10,
   "metadata": {
    "collapsed": false
   },
   "outputs": [],
   "source": [
    "_x = vectorized_check_day(df.index.values)"
   ]
  },
  {
   "cell_type": "code",
   "execution_count": 11,
   "metadata": {
    "collapsed": true
   },
   "outputs": [
    {
     "data": {
      "text/html": [
       "<div>\n",
       "<style scoped>\n",
       "    .dataframe tbody tr th:only-of-type {\n",
       "        vertical-align: middle;\n",
       "    }\n",
       "\n",
       "    .dataframe tbody tr th {\n",
       "        vertical-align: top;\n",
       "    }\n",
       "\n",
       "    .dataframe thead th {\n",
       "        text-align: right;\n",
       "    }\n",
       "</style>\n",
       "<table border=\"1\" class=\"dataframe\">\n",
       "  <thead>\n",
       "    <tr style=\"text-align: right;\">\n",
       "      <th></th>\n",
       "      <th>0</th>\n",
       "    </tr>\n",
       "  </thead>\n",
       "  <tbody>\n",
       "    <tr>\n",
       "      <th>2018-10-10</th>\n",
       "      <td>work day</td>\n",
       "    </tr>\n",
       "    <tr>\n",
       "      <th>2018-10-11</th>\n",
       "      <td>work day</td>\n",
       "    </tr>\n",
       "    <tr>\n",
       "      <th>2018-10-12</th>\n",
       "      <td>work day</td>\n",
       "    </tr>\n",
       "    <tr>\n",
       "      <th>2018-10-13</th>\n",
       "      <td>special day</td>\n",
       "    </tr>\n",
       "    <tr>\n",
       "      <th>2018-10-14</th>\n",
       "      <td>work day</td>\n",
       "    </tr>\n",
       "    <tr>\n",
       "      <th>2018-10-15</th>\n",
       "      <td>work day</td>\n",
       "    </tr>\n",
       "    <tr>\n",
       "      <th>2018-10-16</th>\n",
       "      <td>work day</td>\n",
       "    </tr>\n",
       "    <tr>\n",
       "      <th>2018-10-17</th>\n",
       "      <td>special day</td>\n",
       "    </tr>\n",
       "    <tr>\n",
       "      <th>2018-10-18</th>\n",
       "      <td>work day</td>\n",
       "    </tr>\n",
       "    <tr>\n",
       "      <th>2018-10-19</th>\n",
       "      <td>work day</td>\n",
       "    </tr>\n",
       "    <tr>\n",
       "      <th>2018-10-20</th>\n",
       "      <td>special day</td>\n",
       "    </tr>\n",
       "  </tbody>\n",
       "</table>\n",
       "</div>"
      ],
      "text/plain": [
       "                      0\n",
       "2018-10-10     work day\n",
       "2018-10-11     work day\n",
       "2018-10-12     work day\n",
       "2018-10-13  special day\n",
       "2018-10-14     work day\n",
       "2018-10-15     work day\n",
       "2018-10-16     work day\n",
       "2018-10-17  special day\n",
       "2018-10-18     work day\n",
       "2018-10-19     work day\n",
       "2018-10-20  special day"
      ]
     },
     "execution_count": 11,
     "metadata": {},
     "output_type": "execute_result"
    }
   ],
   "source": [
    "x = pd.DataFrame.from_dict(_vectorized_dict, orient='index').sort_index()\n",
    "x"
   ]
  },
  {
   "cell_type": "code",
   "execution_count": null,
   "metadata": {
    "collapsed": true
   },
   "outputs": [],
   "source": []
  },
  {
   "cell_type": "code",
   "execution_count": null,
   "metadata": {
    "collapsed": true
   },
   "outputs": [],
   "source": []
  },
  {
   "cell_type": "code",
   "execution_count": null,
   "metadata": {
    "collapsed": true
   },
   "outputs": [],
   "source": [
    "# https://stackoverflow.com/questions/46868855/numpy-replacing-values-in-a-2d-array-efficiently-using-a-dictionary-as-a-map\n",
    "\n",
    "a = np.array([[  3,   0,   2,  -1],\n",
    "              [  1, 255,   1,   2],\n",
    "              [  0,   3,   2,   2]])\n",
    "\n",
    "d = {0: 1, 1: 2, 2: 3, 3: 4, -1: 0, 255: 0}"
   ]
  },
  {
   "cell_type": "code",
   "execution_count": null,
   "metadata": {
    "collapsed": true
   },
   "outputs": [],
   "source": [
    "# https://stackoverflow.com/questions/3403973/fast-replacement-of-values-in-a-numpy-array\n",
    "from numpy import copy, random, arange\n",
    "\n",
    "random.seed(0)\n",
    "data = random.randint(30, size=10**5)\n",
    "\n",
    "#d = {4: 0, 9: 5, 14: 10, 19: 15, 20: 0, 21: 1, 22: 2, 23: 3, 24: 0}\n",
    "# d = _vectorized_dict\n",
    "dk = d.keys()\n",
    "dv = d.values()\n",
    "\n",
    "def f1(a, d):\n",
    "    b = copy(a)\n",
    "    for k, v in d.iteritems():\n",
    "        b[a==k] = v\n",
    "    return b\n",
    "\n",
    "a = copy(data)\n",
    "res = f2(a, d)\n",
    "\n",
    "assert (f1(data, d) == res).all()\n",
    "assert (f3(data, dk, dv) == res).all()"
   ]
  },
  {
   "cell_type": "code",
   "execution_count": null,
   "metadata": {
    "collapsed": true
   },
   "outputs": [],
   "source": [
    "# https://stackoverflow.com/questions/3403973/fast-replacement-of-values-in-a-numpy-array\n",
    "\n",
    "import timeit\n",
    "import numpy as np\n",
    "\n",
    "array = 2 * np.round(np.random.uniform(0,10000,300000)).astype(int)\n",
    "from_values = np.unique(array) # pair values from 0 to 2000\n",
    "to_values = np.arange(from_values.size) # all values from 0 to 1000\n",
    "d = dict(zip(from_values, to_values))\n",
    "\n",
    "def method_for_loop():\n",
    "    out = array.copy()\n",
    "    for from_value, to_value in zip(from_values, to_values) :\n",
    "        out[out == from_value] = to_value\n",
    "    print('Check method_for_loop :', np.all(out == array/2)) # Just checking\n",
    "print('Time method_for_loop :', timeit.timeit(method_for_loop, number = 1))\n",
    "\n",
    "def method_list_comprehension():\n",
    "    out = [d[i] for i in array]\n",
    "    print('Check method_list_comprehension :', np.all(out == array/2)) # Just checking\n",
    "print('Time method_list_comprehension :', timeit.timeit(method_list_comprehension, number = 1))\n",
    "\n",
    "def method_bruteforce():\n",
    "    idx = np.nonzero(from_values == array[:,None])[1]\n",
    "    out = to_values[idx]\n",
    "    print('Check method_bruteforce :', np.all(out == array/2)) # Just checking\n",
    "print('Time method_bruteforce :', timeit.timeit(method_bruteforce, number = 1))\n",
    "\n",
    "def method_searchsort():\n",
    "    sort_idx = np.argsort(from_values)\n",
    "    idx = np.searchsorted(from_values,array,sorter = sort_idx)\n",
    "    out = to_values[sort_idx][idx]\n",
    "    print('Check method_searchsort :', np.all(out == array/2)) # Just checking\n",
    "print('Time method_searchsort :', timeit.timeit(method_searchsort, number = 1))"
   ]
  },
  {
   "cell_type": "code",
   "execution_count": null,
   "metadata": {
    "collapsed": true
   },
   "outputs": [],
   "source": [
    "# https://stackoverflow.com/questions/46868855/numpy-replacing-values-in-a-2d-array-efficiently-using-a-dictionary-as-a-map\n",
    "# Function to be vectorized\n",
    "def map_func(val, dictionary):\n",
    "    return dictionary[val] if val in dictionary else val \n",
    "\n",
    "# Vectorize map_func\n",
    "vfunc  = np.vectorize(map_func)\n",
    "\n",
    "# Run\n",
    "print(vfunc(a, d))\n",
    "\n",
    "\n",
    "from timeit import Timer\n",
    "t = Timer('vfunc(a, d)', 'from __main__ import a, d, vfunc')\n",
    "print(t.timeit(number=1000))"
   ]
  },
  {
   "cell_type": "code",
   "execution_count": null,
   "metadata": {
    "collapsed": true
   },
   "outputs": [],
   "source": [
    "# https://stackoverflow.com/questions/46868855/numpy-replacing-values-in-a-2d-array-efficiently-using-a-dictionary-as-a-map\n",
    "\n",
    "a = np.array([[  3,   0,   2,  -1],\n",
    "              [  1, 255,   1,   2],\n",
    "              [  0,   3,   2,   2]])\n",
    "\n",
    "d = {0: 1, 1: 2, 2: 3, 3: 4, -1: 0, 255: 0}\n",
    "\n",
    "#indexer = np.array([d.get(i, -1) for i in range(a.min(), a.max() + 1)])\n",
    "indexer = np.array([d.get(i, i) for i in range(a.min(), a.max() + 1)])\n",
    "\n",
    "In [12]: indexer[(a - a.min())]\n",
    "Out[12]:\n",
    "array([[4, 1, 3, 0],\n",
    "       [2, 0, 2, 3],\n",
    "       [1, 4, 3, 3]])\n"
   ]
  },
  {
   "cell_type": "code",
   "execution_count": null,
   "metadata": {
    "collapsed": true
   },
   "outputs": [],
   "source": [
    "# https://stackoverflow.com/questions/46868855/numpy-replacing-values-in-a-2d-array-efficiently-using-a-dictionary-as-a-map\n",
    "import numpy as np\n",
    "b = np.copy(a)\n",
    "for old, new in d.items():\n",
    "    b[a == old] = new"
   ]
  },
  {
   "cell_type": "code",
   "execution_count": null,
   "metadata": {
    "collapsed": true
   },
   "outputs": [],
   "source": [
    "# https://stackoverflow.com/questions/46868855/numpy-replacing-values-in-a-2d-array-efficiently-using-a-dictionary-as-a-map\n",
    "def getval_array(d):\n",
    "    v = np.array(list(d.values()))\n",
    "    k = np.array(list(d.keys()))\n",
    "    maxv = k.max()\n",
    "    minv = k.min()\n",
    "    n = maxv - minv + 1\n",
    "    val = np.empty(n,dtype=v.dtype)\n",
    "    val[k] = v\n",
    "    return val\n",
    "\n",
    "val_arr = getval_array(d)"
   ]
  }
 ],
 "metadata": {
  "anaconda-cloud": {},
  "kernelspec": {
   "display_name": "Python [conda env:test]",
   "language": "python",
   "name": "conda-env-test-py"
  },
  "language_info": {
   "codemirror_mode": {
    "name": "ipython",
    "version": 3
   },
   "file_extension": ".py",
   "mimetype": "text/x-python",
   "name": "python",
   "nbconvert_exporter": "python",
   "pygments_lexer": "ipython3",
   "version": "3.5.5"
  }
 },
 "nbformat": 4,
 "nbformat_minor": 2
}
