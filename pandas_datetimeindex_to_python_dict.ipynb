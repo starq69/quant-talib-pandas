{
 "cells": [
  {
   "cell_type": "markdown",
   "metadata": {},
   "source": [
    "## pandas DatetimeIndex 2 python dict"
   ]
  },
  {
   "cell_type": "code",
   "execution_count": 40,
   "metadata": {
    "collapsed": true
   },
   "outputs": [],
   "source": [
    "import datetime\n",
    "import pandas as pd\n",
    "import numpy as np\n",
    "\n",
    "todays_date = datetime.datetime.now().date()\n",
    "delta_days  = 10\n",
    "date_range  = pd.date_range(todays_date - datetime.timedelta(delta_days), periods=delta_days+1, freq='D')\n",
    "df          = pd.DataFrame(index=date_range, columns=['x','y']).fillna(0)"
   ]
  },
  {
   "cell_type": "code",
   "execution_count": 23,
   "metadata": {
    "collapsed": true
   },
   "outputs": [],
   "source": [
    "'''pdf = pd.read_csv('/home/starq/REP/DATA/FINANCE/Quotazioni/ASA.csv' \\\n",
    "                                 ,usecols=['Date','Open', 'High', 'Low', 'Close', 'Volume'] \\\n",
    "                                 ,parse_dates=['Date'],infer_datetime_format=True \\\n",
    "                                 ,index_col='Date')'''"
   ]
  },
  {
   "cell_type": "code",
   "execution_count": 25,
   "metadata": {
    "collapsed": true
   },
   "outputs": [],
   "source": [
    "#pdt  =  pd.to_datetime(todays_date)\n",
    "#dt64 = np.datetime64(todays_date)"
   ]
  },
  {
   "cell_type": "markdown",
   "metadata": {},
   "source": [
    "### _dict = {key: value for (key, value) in iterable}"
   ]
  },
  {
   "cell_type": "code",
   "execution_count": 26,
   "metadata": {
    "collapsed": false
   },
   "outputs": [],
   "source": [
    "#_dict_pd_to_datetime = dict.fromkeys(pd.to_datetime(date_range), 'special day')\n",
    "#_dict_np_datetime64 = {np.datetime64(dt) : 'special day' for dt in date_range}"
   ]
  },
  {
   "cell_type": "markdown",
   "metadata": {},
   "source": [
    "#### http://tobybirkinshaw.com/resources/python/random-items-from-a-list-in-python-3/"
   ]
  },
  {
   "cell_type": "code",
   "execution_count": 41,
   "metadata": {
    "collapsed": false
   },
   "outputs": [],
   "source": [
    "from random import choice, randint\n",
    "\n",
    "kind_of_day   = [\"special day\", \"work day\"]\n",
    "my_choice     = choice(kind_of_day)\n",
    "\n",
    "_dict_pd_date_range  = {dt : choice(kind_of_day) for dt in date_range}\n",
    "\n",
    "_dict_pd_to_datetime = {pd.to_datetime(dt) : choice(kind_of_day) for dt in date_range}\n",
    "_dict_np_datetime64  = {np.datetime64(dt) : choice(kind_of_day) for dt in date_range}\n",
    "\n",
    "_vectorized_dict     = {dt : choice(kind_of_day) for dt in df.index.values}"
   ]
  },
  {
   "cell_type": "code",
   "execution_count": 19,
   "metadata": {
    "collapsed": false
   },
   "outputs": [],
   "source": [
    "x = pd.DataFrame.from_dict(_vectorized_dict, orient='index').sort_index()"
   ]
  },
  {
   "cell_type": "code",
   "execution_count": 47,
   "metadata": {
    "collapsed": false
   },
   "outputs": [
    {
     "data": {
      "text/html": [
       "<div>\n",
       "<style scoped>\n",
       "    .dataframe tbody tr th:only-of-type {\n",
       "        vertical-align: middle;\n",
       "    }\n",
       "\n",
       "    .dataframe tbody tr th {\n",
       "        vertical-align: top;\n",
       "    }\n",
       "\n",
       "    .dataframe thead th {\n",
       "        text-align: right;\n",
       "    }\n",
       "</style>\n",
       "<table border=\"1\" class=\"dataframe\">\n",
       "  <thead>\n",
       "    <tr style=\"text-align: right;\">\n",
       "      <th></th>\n",
       "      <th>x</th>\n",
       "      <th>y</th>\n",
       "      <th>special_day</th>\n",
       "    </tr>\n",
       "  </thead>\n",
       "  <tbody>\n",
       "    <tr>\n",
       "      <th>2018-10-11</th>\n",
       "      <td>0</td>\n",
       "      <td>0</td>\n",
       "      <td>None</td>\n",
       "    </tr>\n",
       "    <tr>\n",
       "      <th>2018-10-12</th>\n",
       "      <td>0</td>\n",
       "      <td>0</td>\n",
       "      <td>work day</td>\n",
       "    </tr>\n",
       "    <tr>\n",
       "      <th>2018-10-13</th>\n",
       "      <td>0</td>\n",
       "      <td>0</td>\n",
       "      <td>special day</td>\n",
       "    </tr>\n",
       "    <tr>\n",
       "      <th>2018-10-14</th>\n",
       "      <td>0</td>\n",
       "      <td>0</td>\n",
       "      <td>special day</td>\n",
       "    </tr>\n",
       "    <tr>\n",
       "      <th>2018-10-15</th>\n",
       "      <td>0</td>\n",
       "      <td>0</td>\n",
       "      <td>special day</td>\n",
       "    </tr>\n",
       "    <tr>\n",
       "      <th>2018-10-16</th>\n",
       "      <td>0</td>\n",
       "      <td>0</td>\n",
       "      <td>work day</td>\n",
       "    </tr>\n",
       "    <tr>\n",
       "      <th>2018-10-17</th>\n",
       "      <td>0</td>\n",
       "      <td>0</td>\n",
       "      <td>work day</td>\n",
       "    </tr>\n",
       "    <tr>\n",
       "      <th>2018-10-18</th>\n",
       "      <td>0</td>\n",
       "      <td>0</td>\n",
       "      <td>special day</td>\n",
       "    </tr>\n",
       "    <tr>\n",
       "      <th>2018-10-19</th>\n",
       "      <td>0</td>\n",
       "      <td>0</td>\n",
       "      <td>special day</td>\n",
       "    </tr>\n",
       "    <tr>\n",
       "      <th>2018-10-20</th>\n",
       "      <td>0</td>\n",
       "      <td>0</td>\n",
       "      <td>special day</td>\n",
       "    </tr>\n",
       "    <tr>\n",
       "      <th>2018-10-21</th>\n",
       "      <td>0</td>\n",
       "      <td>0</td>\n",
       "      <td>work day</td>\n",
       "    </tr>\n",
       "  </tbody>\n",
       "</table>\n",
       "</div>"
      ],
      "text/plain": [
       "            x  y  special_day\n",
       "2018-10-11  0  0         None\n",
       "2018-10-12  0  0     work day\n",
       "2018-10-13  0  0  special day\n",
       "2018-10-14  0  0  special day\n",
       "2018-10-15  0  0  special day\n",
       "2018-10-16  0  0     work day\n",
       "2018-10-17  0  0     work day\n",
       "2018-10-18  0  0  special day\n",
       "2018-10-19  0  0  special day\n",
       "2018-10-20  0  0  special day\n",
       "2018-10-21  0  0     work day"
      ]
     },
     "execution_count": 47,
     "metadata": {},
     "output_type": "execute_result"
    }
   ],
   "source": [
    "df"
   ]
  },
  {
   "cell_type": "code",
   "execution_count": 53,
   "metadata": {
    "collapsed": false
   },
   "outputs": [
    {
     "name": "stdout",
     "output_type": "stream",
     "text": [
      "11\n",
      "11\n",
      "type of date_range[x] : <class 'pandas._libs.tslibs.timestamps.Timestamp'>\n",
      "type of _dict_pd_date_range KEY : <class 'pandas._libs.tslibs.timestamps.Timestamp'>\n",
      "type of _dict_pd_to_datetime KEY : <class 'pandas._libs.tslibs.timestamps.Timestamp'>\n",
      "type of _dict_np_datetime64 KEY : <class 'numpy.datetime64'>\n",
      "special day\n",
      "special day\n"
     ]
    }
   ],
   "source": [
    "print(len(_dict_pd_to_datetime))\n",
    "print(len(_dict_np_datetime64))\n",
    "\n",
    "x = randint(0, len(_dict_pd_to_datetime)-1)\n",
    "\n",
    "print('type of date_range[x] : {}'.format(type(date_range [x])))\n",
    "print('type of _dict_pd_date_range KEY : {}'.format(type(date_range[x])))\n",
    "print('type of _dict_pd_to_datetime KEY : {}'.format(type(pd.to_datetime(date_range[x]))))\n",
    "print('type of _dict_np_datetime64 KEY : {}'.format(type(np.datetime64(date_range[x]))))\n",
    "\n",
    "#if pd.to_datetime(date_range[0]) in _dict:\n",
    "if np.datetime64 (date_range [x] ) in _dict_np_datetime64:    \n",
    "    print(_dict_np_datetime64[np.datetime64(date_range[x])])\n",
    "\n",
    "if pd.to_datetime(date_range[x]) in _dict_pd_to_datetime:    \n",
    "    print(_dict_pd_to_datetime[pd.to_datetime(date_range[x])])\n"
   ]
  },
  {
   "cell_type": "code",
   "execution_count": 43,
   "metadata": {
    "collapsed": false
   },
   "outputs": [
    {
     "data": {
      "text/plain": [
       "{numpy.datetime64('2018-10-11T00:00:00.000000000'): 'work day',\n",
       " numpy.datetime64('2018-10-12T00:00:00.000000000'): 'work day',\n",
       " numpy.datetime64('2018-10-13T00:00:00.000000000'): 'special day',\n",
       " numpy.datetime64('2018-10-14T00:00:00.000000000'): 'special day',\n",
       " numpy.datetime64('2018-10-15T00:00:00.000000000'): 'special day',\n",
       " numpy.datetime64('2018-10-16T00:00:00.000000000'): 'work day',\n",
       " numpy.datetime64('2018-10-17T00:00:00.000000000'): 'work day',\n",
       " numpy.datetime64('2018-10-18T00:00:00.000000000'): 'special day',\n",
       " numpy.datetime64('2018-10-19T00:00:00.000000000'): 'special day',\n",
       " numpy.datetime64('2018-10-20T00:00:00.000000000'): 'special day',\n",
       " numpy.datetime64('2018-10-21T00:00:00.000000000'): 'work day'}"
      ]
     },
     "execution_count": 43,
     "metadata": {},
     "output_type": "execute_result"
    }
   ],
   "source": [
    "_vectorized_dict"
   ]
  },
  {
   "cell_type": "markdown",
   "metadata": {},
   "source": [
    "#### rimuovo un elemento da _vectorized_dict per il test di vectorized_check_day(row)"
   ]
  },
  {
   "cell_type": "code",
   "execution_count": 44,
   "metadata": {
    "collapsed": true
   },
   "outputs": [],
   "source": [
    "del _vectorized_dict[np.datetime64('2018-10-11T00:00:00.000000000')]"
   ]
  },
  {
   "cell_type": "code",
   "execution_count": 45,
   "metadata": {
    "collapsed": false
   },
   "outputs": [],
   "source": [
    "# apply functions\n",
    "#\n",
    "    \n",
    "def check_day_pd_to_datetime (row):\n",
    "    '''\n",
    "    es:\n",
    "    df['special_day'] = df.apply(check_day, axis=1)\n",
    "    df['special_day'] = df.apply(lambda row: check_day(row), axis=1)\n",
    "    '''\n",
    "    key = pd.to_datetime(row.name)\n",
    "    #key = row.name\n",
    "    if key in _dict_pd_to_datetime:\n",
    "        return _dict_pd_to_datetime[key]\n",
    "    else:\n",
    "        return '-'\n",
    "\n",
    "    \n",
    "def check_day_np_datetime64 (row):\n",
    "    \n",
    "    # type(row.name) is <class 'numpy.datetime64'>\n",
    "    \n",
    "    key = np.datetime64(row.name)\n",
    "    #key = row.name\n",
    "    if key in _dict_np_datetime64:\n",
    "        return _dict_np_datetime64[key]\n",
    "    else:\n",
    "        return '-'\n",
    "\n",
    "    \n",
    "def check_day_pd_date_range (row):\n",
    "    '''\n",
    "    1.38 ms\n",
    "    '''\n",
    "    key = pd.to_datetime(row.name)\n",
    "    if key in _dict_pd_date_range:\n",
    "        return _dict_pd_date_range[key]\n",
    "    else:\n",
    "        return '-'\n",
    "        \n",
    "    \n",
    "def vectorized_check_day (indexes):\n",
    "    '''\n",
    "    OK - 158 µs\n",
    "    '''\n",
    "    return [_vectorized_dict[index] if index in _vectorized_dict else None for index in indexes]\n",
    "    \n",
    "    \n",
    "import math \n",
    "from random import randint\n",
    "def A (row):\n",
    "    return math.expm1(randint(1,10))\n"
   ]
  },
  {
   "cell_type": "code",
   "execution_count": 46,
   "metadata": {
    "collapsed": false
   },
   "outputs": [
    {
     "name": "stdout",
     "output_type": "stream",
     "text": [
      "The slowest run took 17.83 times longer than the fastest. This could mean that an intermediate result is being cached.\n",
      "1000 loops, best of 3: 172 µs per loop\n"
     ]
    }
   ],
   "source": [
    "%%timeit \n",
    "df['special_day'] = vectorized_check_day(df.index.values)"
   ]
  },
  {
   "cell_type": "code",
   "execution_count": 52,
   "metadata": {
    "collapsed": false
   },
   "outputs": [
    {
     "data": {
      "text/html": [
       "<div>\n",
       "<style scoped>\n",
       "    .dataframe tbody tr th:only-of-type {\n",
       "        vertical-align: middle;\n",
       "    }\n",
       "\n",
       "    .dataframe tbody tr th {\n",
       "        vertical-align: top;\n",
       "    }\n",
       "\n",
       "    .dataframe thead th {\n",
       "        text-align: right;\n",
       "    }\n",
       "</style>\n",
       "<table border=\"1\" class=\"dataframe\">\n",
       "  <thead>\n",
       "    <tr style=\"text-align: right;\">\n",
       "      <th></th>\n",
       "      <th>x</th>\n",
       "      <th>y</th>\n",
       "      <th>special_day</th>\n",
       "    </tr>\n",
       "  </thead>\n",
       "  <tbody>\n",
       "    <tr>\n",
       "      <th>2018-10-11</th>\n",
       "      <td>0</td>\n",
       "      <td>0</td>\n",
       "      <td>special day</td>\n",
       "    </tr>\n",
       "    <tr>\n",
       "      <th>2018-10-12</th>\n",
       "      <td>0</td>\n",
       "      <td>0</td>\n",
       "      <td>special day</td>\n",
       "    </tr>\n",
       "    <tr>\n",
       "      <th>2018-10-13</th>\n",
       "      <td>0</td>\n",
       "      <td>0</td>\n",
       "      <td>special day</td>\n",
       "    </tr>\n",
       "    <tr>\n",
       "      <th>2018-10-14</th>\n",
       "      <td>0</td>\n",
       "      <td>0</td>\n",
       "      <td>special day</td>\n",
       "    </tr>\n",
       "    <tr>\n",
       "      <th>2018-10-15</th>\n",
       "      <td>0</td>\n",
       "      <td>0</td>\n",
       "      <td>special day</td>\n",
       "    </tr>\n",
       "    <tr>\n",
       "      <th>2018-10-16</th>\n",
       "      <td>0</td>\n",
       "      <td>0</td>\n",
       "      <td>special day</td>\n",
       "    </tr>\n",
       "    <tr>\n",
       "      <th>2018-10-17</th>\n",
       "      <td>0</td>\n",
       "      <td>0</td>\n",
       "      <td>work day</td>\n",
       "    </tr>\n",
       "    <tr>\n",
       "      <th>2018-10-18</th>\n",
       "      <td>0</td>\n",
       "      <td>0</td>\n",
       "      <td>work day</td>\n",
       "    </tr>\n",
       "    <tr>\n",
       "      <th>2018-10-19</th>\n",
       "      <td>0</td>\n",
       "      <td>0</td>\n",
       "      <td>work day</td>\n",
       "    </tr>\n",
       "    <tr>\n",
       "      <th>2018-10-20</th>\n",
       "      <td>0</td>\n",
       "      <td>0</td>\n",
       "      <td>special day</td>\n",
       "    </tr>\n",
       "    <tr>\n",
       "      <th>2018-10-21</th>\n",
       "      <td>0</td>\n",
       "      <td>0</td>\n",
       "      <td>special day</td>\n",
       "    </tr>\n",
       "  </tbody>\n",
       "</table>\n",
       "</div>"
      ],
      "text/plain": [
       "            x  y  special_day\n",
       "2018-10-11  0  0  special day\n",
       "2018-10-12  0  0  special day\n",
       "2018-10-13  0  0  special day\n",
       "2018-10-14  0  0  special day\n",
       "2018-10-15  0  0  special day\n",
       "2018-10-16  0  0  special day\n",
       "2018-10-17  0  0     work day\n",
       "2018-10-18  0  0     work day\n",
       "2018-10-19  0  0     work day\n",
       "2018-10-20  0  0  special day\n",
       "2018-10-21  0  0  special day"
      ]
     },
     "execution_count": 52,
     "metadata": {},
     "output_type": "execute_result"
    }
   ],
   "source": [
    "df"
   ]
  },
  {
   "cell_type": "code",
   "execution_count": 20,
   "metadata": {
    "collapsed": false
   },
   "outputs": [
    {
     "name": "stdout",
     "output_type": "stream",
     "text": [
      "The slowest run took 5.26 times longer than the fastest. This could mean that an intermediate result is being cached.\n",
      "1000 loops, best of 3: 1.35 ms per loop\n"
     ]
    }
   ],
   "source": [
    "%%timeit\n",
    "df['special_day'] = df.apply(check_day_pd_to_datetime, axis=1)"
   ]
  },
  {
   "cell_type": "code",
   "execution_count": 77,
   "metadata": {
    "collapsed": false
   },
   "outputs": [],
   "source": [
    "#%%timeit\n",
    "df['special_day'] = df.apply(lambda row: check_day_pd_to_datetime(row), axis=1)"
   ]
  },
  {
   "cell_type": "code",
   "execution_count": 80,
   "metadata": {
    "collapsed": false
   },
   "outputs": [],
   "source": [
    "#%%timeit\n",
    "df['special_day'] = df.apply(check_day_np_datetime64, axis=1)"
   ]
  },
  {
   "cell_type": "code",
   "execution_count": 49,
   "metadata": {
    "collapsed": false
   },
   "outputs": [
    {
     "name": "stdout",
     "output_type": "stream",
     "text": [
      "1000 loops, best of 3: 866 µs per loop\n"
     ]
    }
   ],
   "source": [
    "%%timeit\n",
    "df['special_day'] = df.apply(lambda row: check_day_np_datetime64(row), axis=1)"
   ]
  },
  {
   "cell_type": "code",
   "execution_count": 51,
   "metadata": {
    "collapsed": false
   },
   "outputs": [
    {
     "name": "stdout",
     "output_type": "stream",
     "text": [
      "The slowest run took 5.42 times longer than the fastest. This could mean that an intermediate result is being cached.\n",
      "1000 loops, best of 3: 1.37 ms per loop\n"
     ]
    }
   ],
   "source": [
    "%%timeit\n",
    "df['special_day'] = df.apply(lambda row: check_day_pd_date_range(row), axis=1)"
   ]
  },
  {
   "cell_type": "code",
   "execution_count": 92,
   "metadata": {
    "collapsed": false
   },
   "outputs": [
    {
     "name": "stdout",
     "output_type": "stream",
     "text": [
      "The slowest run took 5.84 times longer than the fastest. This could mean that an intermediate result is being cached.\n",
      "1000 loops, best of 3: 812 µs per loop\n"
     ]
    }
   ],
   "source": [
    "%%timeit\n",
    "df['special_day'] = df.apply(lambda row: A(row), axis=1)"
   ]
  },
  {
   "cell_type": "code",
   "execution_count": null,
   "metadata": {
    "collapsed": true
   },
   "outputs": [],
   "source": []
  },
  {
   "cell_type": "code",
   "execution_count": null,
   "metadata": {
    "collapsed": true
   },
   "outputs": [],
   "source": []
  },
  {
   "cell_type": "code",
   "execution_count": 66,
   "metadata": {
    "collapsed": false
   },
   "outputs": [
    {
     "data": {
      "text/plain": [
       "DatetimeIndex(['2018-10-09', '2018-10-10', '2018-10-11', '2018-10-12',\n",
       "               '2018-10-13', '2018-10-14'],\n",
       "              dtype='datetime64[ns]', freq='D')"
      ]
     },
     "execution_count": 66,
     "metadata": {},
     "output_type": "execute_result"
    }
   ],
   "source": [
    "days"
   ]
  },
  {
   "cell_type": "code",
   "execution_count": 67,
   "metadata": {
    "collapsed": false
   },
   "outputs": [
    {
     "data": {
      "text/plain": [
       "Timestamp('2018-10-09 00:00:00', freq='D')"
      ]
     },
     "execution_count": 67,
     "metadata": {},
     "output_type": "execute_result"
    }
   ],
   "source": [
    "days[0]"
   ]
  },
  {
   "cell_type": "code",
   "execution_count": 55,
   "metadata": {
    "collapsed": false
   },
   "outputs": [],
   "source": [
    "d = dict.fromkeys(days, 0)"
   ]
  },
  {
   "cell_type": "code",
   "execution_count": 56,
   "metadata": {
    "collapsed": false
   },
   "outputs": [
    {
     "data": {
      "text/plain": [
       "{Timestamp('2018-10-09 00:00:00', freq='D'): 0,\n",
       " Timestamp('2018-10-10 00:00:00', freq='D'): 0,\n",
       " Timestamp('2018-10-11 00:00:00', freq='D'): 0,\n",
       " Timestamp('2018-10-12 00:00:00', freq='D'): 0,\n",
       " Timestamp('2018-10-13 00:00:00', freq='D'): 0,\n",
       " Timestamp('2018-10-14 00:00:00', freq='D'): 0}"
      ]
     },
     "execution_count": 56,
     "metadata": {},
     "output_type": "execute_result"
    }
   ],
   "source": [
    "d"
   ]
  },
  {
   "cell_type": "code",
   "execution_count": null,
   "metadata": {
    "collapsed": true
   },
   "outputs": [],
   "source": []
  },
  {
   "cell_type": "code",
   "execution_count": 103,
   "metadata": {
    "collapsed": false
   },
   "outputs": [],
   "source": [
    "dt   = datetime.datetime.now().date()\n",
    "ts   = pd.DatetimeIndex([dt])[0]\n",
    "\n",
    "pdt =  pd.to_datetime(dt)\n",
    "days = pd.date_range(dt - datetime.timedelta(10), periods=6, freq='D')\n",
    "\n",
    "dt64 = np.datetime64(dt)"
   ]
  },
  {
   "cell_type": "code",
   "execution_count": 104,
   "metadata": {
    "collapsed": false
   },
   "outputs": [
    {
     "data": {
      "text/plain": [
       "(datetime.date(2018, 10, 19), Timestamp('2018-10-19 00:00:00'))"
      ]
     },
     "execution_count": 104,
     "metadata": {},
     "output_type": "execute_result"
    }
   ],
   "source": [
    "dt, ts"
   ]
  },
  {
   "cell_type": "code",
   "execution_count": 105,
   "metadata": {
    "collapsed": false
   },
   "outputs": [
    {
     "data": {
      "text/plain": [
       "(Timestamp('2018-10-19 00:00:00'),\n",
       " DatetimeIndex(['2018-10-09', '2018-10-10', '2018-10-11', '2018-10-12',\n",
       "                '2018-10-13', '2018-10-14'],\n",
       "               dtype='datetime64[ns]', freq='D'))"
      ]
     },
     "execution_count": 105,
     "metadata": {},
     "output_type": "execute_result"
    }
   ],
   "source": [
    "pdt, days"
   ]
  },
  {
   "cell_type": "code",
   "execution_count": 106,
   "metadata": {
    "collapsed": false
   },
   "outputs": [
    {
     "data": {
      "text/plain": [
       "numpy.datetime64('2018-10-19')"
      ]
     },
     "execution_count": 106,
     "metadata": {},
     "output_type": "execute_result"
    }
   ],
   "source": [
    "dt64"
   ]
  },
  {
   "cell_type": "code",
   "execution_count": 107,
   "metadata": {
    "collapsed": false
   },
   "outputs": [],
   "source": [
    "_dict = dict.fromkeys(pd.to_datetime(days), 0)"
   ]
  },
  {
   "cell_type": "code",
   "execution_count": null,
   "metadata": {
    "collapsed": false
   },
   "outputs": [],
   "source": []
  },
  {
   "cell_type": "code",
   "execution_count": 70,
   "metadata": {
    "collapsed": false
   },
   "outputs": [
    {
     "data": {
      "text/plain": [
       "{Timestamp('2018-10-10 00:00:00', freq='D'): 'special day',\n",
       " Timestamp('2018-10-11 00:00:00', freq='D'): 'special day',\n",
       " Timestamp('2018-10-12 00:00:00', freq='D'): 'work day',\n",
       " Timestamp('2018-10-13 00:00:00', freq='D'): 'work day',\n",
       " Timestamp('2018-10-14 00:00:00', freq='D'): 'special day',\n",
       " Timestamp('2018-10-15 00:00:00', freq='D'): 'work day',\n",
       " Timestamp('2018-10-16 00:00:00', freq='D'): 'special day',\n",
       " Timestamp('2018-10-17 00:00:00', freq='D'): 'special day',\n",
       " Timestamp('2018-10-18 00:00:00', freq='D'): 'special day',\n",
       " Timestamp('2018-10-19 00:00:00', freq='D'): 'work day',\n",
       " Timestamp('2018-10-20 00:00:00', freq='D'): 'special day'}"
      ]
     },
     "execution_count": 70,
     "metadata": {},
     "output_type": "execute_result"
    }
   ],
   "source": [
    "_dict_pd_to_datetime"
   ]
  },
  {
   "cell_type": "code",
   "execution_count": 69,
   "metadata": {
    "collapsed": false
   },
   "outputs": [
    {
     "data": {
      "text/plain": [
       "{Timestamp('2018-10-10 00:00:00', freq='D'): 'work day',\n",
       " Timestamp('2018-10-11 00:00:00', freq='D'): 'work day',\n",
       " Timestamp('2018-10-12 00:00:00', freq='D'): 'special day',\n",
       " Timestamp('2018-10-13 00:00:00', freq='D'): 'special day',\n",
       " Timestamp('2018-10-14 00:00:00', freq='D'): 'work day',\n",
       " Timestamp('2018-10-15 00:00:00', freq='D'): 'work day',\n",
       " Timestamp('2018-10-16 00:00:00', freq='D'): 'special day',\n",
       " Timestamp('2018-10-17 00:00:00', freq='D'): 'work day',\n",
       " Timestamp('2018-10-18 00:00:00', freq='D'): 'work day',\n",
       " Timestamp('2018-10-19 00:00:00', freq='D'): 'work day',\n",
       " Timestamp('2018-10-20 00:00:00', freq='D'): 'work day'}"
      ]
     },
     "execution_count": 69,
     "metadata": {},
     "output_type": "execute_result"
    }
   ],
   "source": [
    "_dict_pd_date_range"
   ]
  },
  {
   "cell_type": "code",
   "execution_count": 54,
   "metadata": {
    "collapsed": false
   },
   "outputs": [
    {
     "ename": "NameError",
     "evalue": "name 'pdf' is not defined",
     "output_type": "error",
     "traceback": [
      "\u001b[0;31m---------------------------------------------------------------------------\u001b[0m",
      "\u001b[0;31mNameError\u001b[0m                                 Traceback (most recent call last)",
      "\u001b[0;32m<ipython-input-54-e15ba0bdc612>\u001b[0m in \u001b[0;36m<module>\u001b[0;34m()\u001b[0m\n\u001b[0;32m----> 1\u001b[0;31m \u001b[0mpdf\u001b[0m\u001b[0;34m\u001b[0m\u001b[0m\n\u001b[0m",
      "\u001b[0;31mNameError\u001b[0m: name 'pdf' is not defined"
     ]
    }
   ],
   "source": [
    "pdf"
   ]
  },
  {
   "cell_type": "code",
   "execution_count": null,
   "metadata": {
    "collapsed": true
   },
   "outputs": [],
   "source": []
  }
 ],
 "metadata": {
  "anaconda-cloud": {},
  "kernelspec": {
   "display_name": "Python [conda env:test]",
   "language": "python",
   "name": "conda-env-test-py"
  },
  "language_info": {
   "codemirror_mode": {
    "name": "ipython",
    "version": 3
   },
   "file_extension": ".py",
   "mimetype": "text/x-python",
   "name": "python",
   "nbconvert_exporter": "python",
   "pygments_lexer": "ipython3",
   "version": "3.5.5"
  }
 },
 "nbformat": 4,
 "nbformat_minor": 2
}
