{
 "cells": [
  {
   "cell_type": "code",
   "execution_count": 26,
   "metadata": {
    "collapsed": false
   },
   "outputs": [],
   "source": [
    "import numpy as np\n",
    "import pandas as pd\n",
    "\n",
    "#df = pd.DataFrame({'a': np.random.randn(1000), 'b': np.random.randn(1000),'N': np.random.randint(100, 1000, (1000)), 'x': 'x'})\n",
    "df = pd.DataFrame({'a': np.random.uniform(size=int(1e3)), 'b':np.random.uniform(size=int(1e3)), 'N': np.random.randint(100, 1000, (1000)), 'x': 'x'})\n"
   ]
  },
  {
   "cell_type": "code",
   "execution_count": 27,
   "metadata": {
    "collapsed": false
   },
   "outputs": [
    {
     "name": "stdout",
     "output_type": "stream",
     "text": [
      "<class 'pandas.core.frame.DataFrame'>\n",
      "RangeIndex: 1000 entries, 0 to 999\n",
      "Data columns (total 4 columns):\n",
      "N    1000 non-null int64\n",
      "a    1000 non-null float64\n",
      "b    1000 non-null float64\n",
      "x    1000 non-null object\n",
      "dtypes: float64(2), int64(1), object(1)\n",
      "memory usage: 31.3+ KB\n"
     ]
    }
   ],
   "source": [
    "df.info()"
   ]
  },
  {
   "cell_type": "code",
   "execution_count": 4,
   "metadata": {
    "collapsed": false
   },
   "outputs": [
    {
     "name": "stdout",
     "output_type": "stream",
     "text": [
      "1.63 ms ± 105 µs per loop (mean ± std. dev. of 7 runs, 1000 loops each)\n",
      "623 µs ± 2.22 µs per loop (mean ± std. dev. of 7 runs, 1000 loops each)\n"
     ]
    }
   ],
   "source": [
    "%timeit [row[1] * 2 for row in df.itertuples()]\n",
    "%timeit [row[1] * 2 for row in df.itertuples(name=None)] # regular tuples"
   ]
  },
  {
   "cell_type": "code",
   "execution_count": 6,
   "metadata": {
    "collapsed": false
   },
   "outputs": [
    {
     "data": {
      "text/html": [
       "<div>\n",
       "<table border=\"1\" class=\"dataframe\">\n",
       "  <thead>\n",
       "    <tr style=\"text-align: right;\">\n",
       "      <th></th>\n",
       "      <th>N</th>\n",
       "      <th>a</th>\n",
       "      <th>b</th>\n",
       "      <th>x</th>\n",
       "    </tr>\n",
       "  </thead>\n",
       "  <tbody>\n",
       "    <tr>\n",
       "      <th>995</th>\n",
       "      <td>776</td>\n",
       "      <td>0.264615</td>\n",
       "      <td>-1.471044</td>\n",
       "      <td>x</td>\n",
       "    </tr>\n",
       "    <tr>\n",
       "      <th>996</th>\n",
       "      <td>471</td>\n",
       "      <td>-0.638369</td>\n",
       "      <td>0.888374</td>\n",
       "      <td>x</td>\n",
       "    </tr>\n",
       "    <tr>\n",
       "      <th>997</th>\n",
       "      <td>776</td>\n",
       "      <td>1.481771</td>\n",
       "      <td>0.331942</td>\n",
       "      <td>x</td>\n",
       "    </tr>\n",
       "    <tr>\n",
       "      <th>998</th>\n",
       "      <td>196</td>\n",
       "      <td>1.607678</td>\n",
       "      <td>0.979898</td>\n",
       "      <td>x</td>\n",
       "    </tr>\n",
       "    <tr>\n",
       "      <th>999</th>\n",
       "      <td>206</td>\n",
       "      <td>-0.850160</td>\n",
       "      <td>-1.025625</td>\n",
       "      <td>x</td>\n",
       "    </tr>\n",
       "  </tbody>\n",
       "</table>\n",
       "</div>"
      ],
      "text/plain": [
       "       N         a         b  x\n",
       "995  776  0.264615 -1.471044  x\n",
       "996  471 -0.638369  0.888374  x\n",
       "997  776  1.481771  0.331942  x\n",
       "998  196  1.607678  0.979898  x\n",
       "999  206 -0.850160 -1.025625  x"
      ]
     },
     "execution_count": 6,
     "metadata": {},
     "output_type": "execute_result"
    }
   ],
   "source": [
    "df.tail()"
   ]
  },
  {
   "cell_type": "markdown",
   "metadata": {},
   "source": [
    "### simple moving average"
   ]
  },
  {
   "cell_type": "code",
   "execution_count": 7,
   "metadata": {
    "collapsed": false
   },
   "outputs": [
    {
     "name": "stdout",
     "output_type": "stream",
     "text": [
      "341 µs ± 2.51 µs per loop (mean ± std. dev. of 7 runs, 1000 loops each)\n"
     ]
    }
   ],
   "source": [
    "%timeit df['MA'] = df['a'].rolling(window=5).mean()"
   ]
  },
  {
   "cell_type": "code",
   "execution_count": 12,
   "metadata": {
    "collapsed": false
   },
   "outputs": [
    {
     "data": {
      "text/html": [
       "<div>\n",
       "<table border=\"1\" class=\"dataframe\">\n",
       "  <thead>\n",
       "    <tr style=\"text-align: right;\">\n",
       "      <th></th>\n",
       "      <th>N</th>\n",
       "      <th>a</th>\n",
       "      <th>b</th>\n",
       "      <th>x</th>\n",
       "      <th>MA</th>\n",
       "    </tr>\n",
       "  </thead>\n",
       "  <tbody>\n",
       "    <tr>\n",
       "      <th>995</th>\n",
       "      <td>776</td>\n",
       "      <td>0.264615</td>\n",
       "      <td>-1.471044</td>\n",
       "      <td>x</td>\n",
       "      <td>0.010475</td>\n",
       "    </tr>\n",
       "    <tr>\n",
       "      <th>996</th>\n",
       "      <td>471</td>\n",
       "      <td>-0.638369</td>\n",
       "      <td>0.888374</td>\n",
       "      <td>x</td>\n",
       "      <td>0.003074</td>\n",
       "    </tr>\n",
       "    <tr>\n",
       "      <th>997</th>\n",
       "      <td>776</td>\n",
       "      <td>1.481771</td>\n",
       "      <td>0.331942</td>\n",
       "      <td>x</td>\n",
       "      <td>0.027953</td>\n",
       "    </tr>\n",
       "    <tr>\n",
       "      <th>998</th>\n",
       "      <td>196</td>\n",
       "      <td>1.607678</td>\n",
       "      <td>0.979898</td>\n",
       "      <td>x</td>\n",
       "      <td>0.043494</td>\n",
       "    </tr>\n",
       "    <tr>\n",
       "      <th>999</th>\n",
       "      <td>206</td>\n",
       "      <td>-0.850160</td>\n",
       "      <td>-1.025625</td>\n",
       "      <td>x</td>\n",
       "      <td>0.028213</td>\n",
       "    </tr>\n",
       "  </tbody>\n",
       "</table>\n",
       "</div>"
      ],
      "text/plain": [
       "       N         a         b  x        MA\n",
       "995  776  0.264615 -1.471044  x  0.010475\n",
       "996  471 -0.638369  0.888374  x  0.003074\n",
       "997  776  1.481771  0.331942  x  0.027953\n",
       "998  196  1.607678  0.979898  x  0.043494\n",
       "999  206 -0.850160 -1.025625  x  0.028213"
      ]
     },
     "execution_count": 12,
     "metadata": {},
     "output_type": "execute_result"
    }
   ],
   "source": [
    "df.tail()"
   ]
  },
  {
   "cell_type": "code",
   "execution_count": 11,
   "metadata": {
    "collapsed": false
   },
   "outputs": [
    {
     "name": "stdout",
     "output_type": "stream",
     "text": [
      "348 µs ± 14.1 µs per loop (mean ± std. dev. of 7 runs, 1000 loops each)\n"
     ]
    }
   ],
   "source": [
    "%timeit df['MA'] = df['a'].rolling(window=90).mean()"
   ]
  },
  {
   "cell_type": "code",
   "execution_count": 2,
   "metadata": {
    "collapsed": false
   },
   "outputs": [],
   "source": [
    "pdf = pd.read_csv('/home/starq/REP/DATA/FINANCE/Quotazioni/NVDA.csv' \\\n",
    "                                 ,usecols=['Date','Open', 'High', 'Low', 'Close', 'Volume'] \\\n",
    "                                 ,parse_dates=['Date'],infer_datetime_format=True \\\n",
    "                                 ,index_col='Date')\n"
   ]
  },
  {
   "cell_type": "code",
   "execution_count": 3,
   "metadata": {
    "collapsed": false
   },
   "outputs": [
    {
     "name": "stdout",
     "output_type": "stream",
     "text": [
      "The slowest run took 38.47 times longer than the fastest. This could mean that an intermediate result is being cached.\n",
      "1000 loops, best of 3: 478 µs per loop\n"
     ]
    }
   ],
   "source": [
    "%timeit pdf['sma_20'] = pdf['Close'].rolling(window=20).mean()"
   ]
  },
  {
   "cell_type": "code",
   "execution_count": 4,
   "metadata": {
    "collapsed": true
   },
   "outputs": [],
   "source": [
    "pdf['sma_20'] = pdf['Close'].rolling(window=20).mean()"
   ]
  },
  {
   "cell_type": "code",
   "execution_count": 10,
   "metadata": {
    "collapsed": false
   },
   "outputs": [
    {
     "data": {
      "text/html": [
       "<div>\n",
       "<style scoped>\n",
       "    .dataframe tbody tr th:only-of-type {\n",
       "        vertical-align: middle;\n",
       "    }\n",
       "\n",
       "    .dataframe tbody tr th {\n",
       "        vertical-align: top;\n",
       "    }\n",
       "\n",
       "    .dataframe thead th {\n",
       "        text-align: right;\n",
       "    }\n",
       "</style>\n",
       "<table border=\"1\" class=\"dataframe\">\n",
       "  <thead>\n",
       "    <tr style=\"text-align: right;\">\n",
       "      <th></th>\n",
       "      <th>Open</th>\n",
       "      <th>High</th>\n",
       "      <th>Low</th>\n",
       "      <th>Close</th>\n",
       "      <th>Volume</th>\n",
       "      <th>sma_20</th>\n",
       "      <th>ema_20</th>\n",
       "      <th>pct_change</th>\n",
       "    </tr>\n",
       "    <tr>\n",
       "      <th>Date</th>\n",
       "      <th></th>\n",
       "      <th></th>\n",
       "      <th></th>\n",
       "      <th></th>\n",
       "      <th></th>\n",
       "      <th></th>\n",
       "      <th></th>\n",
       "      <th></th>\n",
       "    </tr>\n",
       "  </thead>\n",
       "  <tbody>\n",
       "    <tr>\n",
       "      <th>2016-08-08</th>\n",
       "      <td>59.000000</td>\n",
       "      <td>59.139999</td>\n",
       "      <td>58.119999</td>\n",
       "      <td>58.740002</td>\n",
       "      <td>7626600</td>\n",
       "      <td>55.2490</td>\n",
       "      <td>55.051421</td>\n",
       "      <td>0.009278</td>\n",
       "    </tr>\n",
       "    <tr>\n",
       "      <th>2016-08-09</th>\n",
       "      <td>59.029999</td>\n",
       "      <td>59.459999</td>\n",
       "      <td>58.740002</td>\n",
       "      <td>58.889999</td>\n",
       "      <td>9308600</td>\n",
       "      <td>55.5535</td>\n",
       "      <td>55.417000</td>\n",
       "      <td>0.002554</td>\n",
       "    </tr>\n",
       "    <tr>\n",
       "      <th>2016-08-10</th>\n",
       "      <td>59.410000</td>\n",
       "      <td>59.500000</td>\n",
       "      <td>58.320000</td>\n",
       "      <td>58.509998</td>\n",
       "      <td>9393500</td>\n",
       "      <td>55.8400</td>\n",
       "      <td>55.711571</td>\n",
       "      <td>-0.006453</td>\n",
       "    </tr>\n",
       "    <tr>\n",
       "      <th>2016-08-11</th>\n",
       "      <td>58.820000</td>\n",
       "      <td>59.950001</td>\n",
       "      <td>58.700001</td>\n",
       "      <td>59.700001</td>\n",
       "      <td>17026600</td>\n",
       "      <td>56.1590</td>\n",
       "      <td>56.091422</td>\n",
       "      <td>0.020338</td>\n",
       "    </tr>\n",
       "    <tr>\n",
       "      <th>2016-08-12</th>\n",
       "      <td>61.900002</td>\n",
       "      <td>63.380001</td>\n",
       "      <td>60.630001</td>\n",
       "      <td>63.040001</td>\n",
       "      <td>35596500</td>\n",
       "      <td>56.6760</td>\n",
       "      <td>56.753191</td>\n",
       "      <td>0.055946</td>\n",
       "    </tr>\n",
       "  </tbody>\n",
       "</table>\n",
       "</div>"
      ],
      "text/plain": [
       "                 Open       High        Low      Close    Volume   sma_20  \\\n",
       "Date                                                                        \n",
       "2016-08-08  59.000000  59.139999  58.119999  58.740002   7626600  55.2490   \n",
       "2016-08-09  59.029999  59.459999  58.740002  58.889999   9308600  55.5535   \n",
       "2016-08-10  59.410000  59.500000  58.320000  58.509998   9393500  55.8400   \n",
       "2016-08-11  58.820000  59.950001  58.700001  59.700001  17026600  56.1590   \n",
       "2016-08-12  61.900002  63.380001  60.630001  63.040001  35596500  56.6760   \n",
       "\n",
       "               ema_20  pct_change  \n",
       "Date                               \n",
       "2016-08-08  55.051421    0.009278  \n",
       "2016-08-09  55.417000    0.002554  \n",
       "2016-08-10  55.711571   -0.006453  \n",
       "2016-08-11  56.091422    0.020338  \n",
       "2016-08-12  56.753191    0.055946  "
      ]
     },
     "execution_count": 10,
     "metadata": {},
     "output_type": "execute_result"
    }
   ],
   "source": [
    "pdf.tail()"
   ]
  },
  {
   "cell_type": "markdown",
   "metadata": {},
   "source": [
    "### exponential moving average"
   ]
  },
  {
   "cell_type": "code",
   "execution_count": 7,
   "metadata": {
    "collapsed": false
   },
   "outputs": [
    {
     "name": "stdout",
     "output_type": "stream",
     "text": [
      "The slowest run took 6.67 times longer than the fastest. This could mean that an intermediate result is being cached.\n",
      "1000 loops, best of 3: 697 µs per loop\n"
     ]
    }
   ],
   "source": [
    "%timeit pdf['ema_20'] = pdf['Close'].ewm(span=20, adjust=False).mean()"
   ]
  },
  {
   "cell_type": "markdown",
   "metadata": {},
   "source": [
    "### pct_change()"
   ]
  },
  {
   "cell_type": "code",
   "execution_count": 9,
   "metadata": {
    "collapsed": false
   },
   "outputs": [
    {
     "name": "stdout",
     "output_type": "stream",
     "text": [
      "The slowest run took 114.11 times longer than the fastest. This could mean that an intermediate result is being cached.\n",
      "1000 loops, best of 3: 708 µs per loop\n"
     ]
    }
   ],
   "source": [
    "%timeit pdf['pct_change'] = pdf['Close'].pct_change()"
   ]
  },
  {
   "cell_type": "markdown",
   "metadata": {},
   "source": [
    "### eval() \n",
    "https://stackoverflow.com/questions/38725355/when-to-use-dataframe-eval-versus-pandas-eval-or-python-eval"
   ]
  },
  {
   "cell_type": "code",
   "execution_count": 39,
   "metadata": {
    "collapsed": false
   },
   "outputs": [
    {
     "name": "stdout",
     "output_type": "stream",
     "text": [
      "<class 'pandas.core.frame.DataFrame'>\n",
      "RangeIndex: 1000000 entries, 0 to 999999\n",
      "Data columns (total 2 columns):\n",
      "a    1000000 non-null float64\n",
      "b    1000000 non-null float64\n",
      "dtypes: float64(2)\n",
      "memory usage: 15.3 MB\n",
      "1000 loops, best of 3: 12.5 ms per loop\n",
      "1000 loops, best of 3: 15.7 ms per loop\n",
      "1000 loops, best of 3: 10.5 ms per loop\n"
     ]
    }
   ],
   "source": [
    "#import pandas as pd\n",
    "#import numpy as np\n",
    "#import numexpr\n",
    "#import timeit\n",
    "\n",
    "someDf = pd.DataFrame({'a':np.random.uniform(size=int(1e6)), 'b':np.random.uniform(size=int(1e6))})\n",
    "someDf.info()\n",
    "%timeit -n1000 someDf.eval(\"a**b - a*b > b**a - b/a\") # DataFrame.eval() on notional expression\n",
    "%timeit -n1000 eval(\"someDf['a']**someDf['b'] - someDf['a']*someDf['b'] > someDf['b']**someDf['a'] - someDf['b']/someDf['a']\")\n",
    "%timeit -n1000 pd.eval(\"someDf.a**someDf.b - someDf.a*someDf.b > someDf.b**someDf.a - someDf.b/someDf.a\")"
   ]
  },
  {
   "cell_type": "code",
   "execution_count": 17,
   "metadata": {
    "collapsed": false
   },
   "outputs": [
    {
     "data": {
      "text/html": [
       "<div>\n",
       "<style scoped>\n",
       "    .dataframe tbody tr th:only-of-type {\n",
       "        vertical-align: middle;\n",
       "    }\n",
       "\n",
       "    .dataframe tbody tr th {\n",
       "        vertical-align: top;\n",
       "    }\n",
       "\n",
       "    .dataframe thead th {\n",
       "        text-align: right;\n",
       "    }\n",
       "</style>\n",
       "<table border=\"1\" class=\"dataframe\">\n",
       "  <thead>\n",
       "    <tr style=\"text-align: right;\">\n",
       "      <th></th>\n",
       "      <th>a</th>\n",
       "      <th>b</th>\n",
       "    </tr>\n",
       "  </thead>\n",
       "  <tbody>\n",
       "    <tr>\n",
       "      <th>9995</th>\n",
       "      <td>0.976698</td>\n",
       "      <td>0.386643</td>\n",
       "    </tr>\n",
       "    <tr>\n",
       "      <th>9996</th>\n",
       "      <td>0.633809</td>\n",
       "      <td>0.423762</td>\n",
       "    </tr>\n",
       "    <tr>\n",
       "      <th>9997</th>\n",
       "      <td>0.778236</td>\n",
       "      <td>0.661393</td>\n",
       "    </tr>\n",
       "    <tr>\n",
       "      <th>9998</th>\n",
       "      <td>0.037200</td>\n",
       "      <td>0.906537</td>\n",
       "    </tr>\n",
       "    <tr>\n",
       "      <th>9999</th>\n",
       "      <td>0.270631</td>\n",
       "      <td>0.389314</td>\n",
       "    </tr>\n",
       "  </tbody>\n",
       "</table>\n",
       "</div>"
      ],
      "text/plain": [
       "             a         b\n",
       "9995  0.976698  0.386643\n",
       "9996  0.633809  0.423762\n",
       "9997  0.778236  0.661393\n",
       "9998  0.037200  0.906537\n",
       "9999  0.270631  0.389314"
      ]
     },
     "execution_count": 17,
     "metadata": {},
     "output_type": "execute_result"
    }
   ],
   "source": [
    "someDf.tail()"
   ]
  },
  {
   "cell_type": "code",
   "execution_count": 40,
   "metadata": {
    "collapsed": true
   },
   "outputs": [],
   "source": [
    "pdf = pd.read_csv('/home/starq/REP/DATA/FINANCE/Quotazioni/NVDA.csv' \\\n",
    "                                 ,usecols=['Date','Open', 'High', 'Low', 'Close', 'Volume'] \\\n",
    "                                 ,parse_dates=['Date'],infer_datetime_format=True \\\n",
    "                                 ,index_col='Date')\n"
   ]
  },
  {
   "cell_type": "code",
   "execution_count": 45,
   "metadata": {
    "collapsed": false
   },
   "outputs": [
    {
     "name": "stdout",
     "output_type": "stream",
     "text": [
      "500 loops, best of 3: 2.19 ms per loop\n",
      "500 loops, best of 3: 2.42 ms per loop\n",
      "500 loops, best of 3: 502 µs per loop\n"
     ]
    }
   ],
   "source": [
    "import numexpr\n",
    "'''\n",
    "%timeit -n1000 df.eval(\"a**b - a*b > b**a - b/a\") # DataFrame.eval() on notional expression\n",
    "%timeit -n1000 eval(\"df['a']**df['b'] - df['a']*df['b'] > df['b']**df['a'] - df['b']/df['a']\")\n",
    "%timeit -n1000 pd.eval(\"df.a**df.b - df.a*df.b > df.b**df.a - df.b/df.a\")\n",
    "'''\n",
    "%timeit -n500 pdf['perc_daily_range'] = pd.eval(\"((pdf.Low - pdf.High) / pdf.High) * 100\")\n",
    "%timeit -n500 pdf['perc_daily_range'] = pdf.eval(\"((Low - High) / High) * 100\")\n",
    "%timeit -n500 pdf['perc_daily_range'] = eval(\"((pdf['Low'] - pdf['High']) / pdf['High']) * 100\")"
   ]
  },
  {
   "cell_type": "code",
   "execution_count": 43,
   "metadata": {
    "collapsed": false
   },
   "outputs": [
    {
     "data": {
      "text/html": [
       "<div>\n",
       "<style scoped>\n",
       "    .dataframe tbody tr th:only-of-type {\n",
       "        vertical-align: middle;\n",
       "    }\n",
       "\n",
       "    .dataframe tbody tr th {\n",
       "        vertical-align: top;\n",
       "    }\n",
       "\n",
       "    .dataframe thead th {\n",
       "        text-align: right;\n",
       "    }\n",
       "</style>\n",
       "<table border=\"1\" class=\"dataframe\">\n",
       "  <thead>\n",
       "    <tr style=\"text-align: right;\">\n",
       "      <th></th>\n",
       "      <th>Open</th>\n",
       "      <th>High</th>\n",
       "      <th>Low</th>\n",
       "      <th>Close</th>\n",
       "      <th>Volume</th>\n",
       "      <th>perc_daily_range</th>\n",
       "    </tr>\n",
       "    <tr>\n",
       "      <th>Date</th>\n",
       "      <th></th>\n",
       "      <th></th>\n",
       "      <th></th>\n",
       "      <th></th>\n",
       "      <th></th>\n",
       "      <th></th>\n",
       "    </tr>\n",
       "  </thead>\n",
       "  <tbody>\n",
       "    <tr>\n",
       "      <th>2016-08-08</th>\n",
       "      <td>59.000000</td>\n",
       "      <td>59.139999</td>\n",
       "      <td>58.119999</td>\n",
       "      <td>58.740002</td>\n",
       "      <td>7626600</td>\n",
       "      <td>-1.724721</td>\n",
       "    </tr>\n",
       "    <tr>\n",
       "      <th>2016-08-09</th>\n",
       "      <td>59.029999</td>\n",
       "      <td>59.459999</td>\n",
       "      <td>58.740002</td>\n",
       "      <td>58.889999</td>\n",
       "      <td>9308600</td>\n",
       "      <td>-1.210893</td>\n",
       "    </tr>\n",
       "    <tr>\n",
       "      <th>2016-08-10</th>\n",
       "      <td>59.410000</td>\n",
       "      <td>59.500000</td>\n",
       "      <td>58.320000</td>\n",
       "      <td>58.509998</td>\n",
       "      <td>9393500</td>\n",
       "      <td>-1.983193</td>\n",
       "    </tr>\n",
       "    <tr>\n",
       "      <th>2016-08-11</th>\n",
       "      <td>58.820000</td>\n",
       "      <td>59.950001</td>\n",
       "      <td>58.700001</td>\n",
       "      <td>59.700001</td>\n",
       "      <td>17026600</td>\n",
       "      <td>-2.085071</td>\n",
       "    </tr>\n",
       "    <tr>\n",
       "      <th>2016-08-12</th>\n",
       "      <td>61.900002</td>\n",
       "      <td>63.380001</td>\n",
       "      <td>60.630001</td>\n",
       "      <td>63.040001</td>\n",
       "      <td>35596500</td>\n",
       "      <td>-4.338908</td>\n",
       "    </tr>\n",
       "  </tbody>\n",
       "</table>\n",
       "</div>"
      ],
      "text/plain": [
       "                 Open       High        Low      Close    Volume  \\\n",
       "Date                                                               \n",
       "2016-08-08  59.000000  59.139999  58.119999  58.740002   7626600   \n",
       "2016-08-09  59.029999  59.459999  58.740002  58.889999   9308600   \n",
       "2016-08-10  59.410000  59.500000  58.320000  58.509998   9393500   \n",
       "2016-08-11  58.820000  59.950001  58.700001  59.700001  17026600   \n",
       "2016-08-12  61.900002  63.380001  60.630001  63.040001  35596500   \n",
       "\n",
       "            perc_daily_range  \n",
       "Date                          \n",
       "2016-08-08         -1.724721  \n",
       "2016-08-09         -1.210893  \n",
       "2016-08-10         -1.983193  \n",
       "2016-08-11         -2.085071  \n",
       "2016-08-12         -4.338908  "
      ]
     },
     "execution_count": 43,
     "metadata": {},
     "output_type": "execute_result"
    }
   ],
   "source": [
    "pdf.tail()"
   ]
  },
  {
   "cell_type": "code",
   "execution_count": null,
   "metadata": {
    "collapsed": true
   },
   "outputs": [],
   "source": []
  }
 ],
 "metadata": {
  "anaconda-cloud": {},
  "kernelspec": {
   "display_name": "Python [conda env:test]",
   "language": "python",
   "name": "conda-env-test-py"
  },
  "language_info": {
   "codemirror_mode": {
    "name": "ipython",
    "version": 3
   },
   "file_extension": ".py",
   "mimetype": "text/x-python",
   "name": "python",
   "nbconvert_exporter": "python",
   "pygments_lexer": "ipython3",
   "version": "3.5.5"
  }
 },
 "nbformat": 4,
 "nbformat_minor": 1
}
